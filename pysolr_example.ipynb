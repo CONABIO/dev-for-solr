{
 "cells": [
  {
   "cell_type": "code",
   "execution_count": 1,
   "id": "f89830da",
   "metadata": {},
   "outputs": [
    {
     "name": "stdout",
     "output_type": "stream",
     "text": [
      "Requirement already satisfied: pysolr in /Users/rodrigojuarez/opt/anaconda3/lib/python3.8/site-packages (3.9.0)\n",
      "Requirement already satisfied: requests>=2.9.1 in /Users/rodrigojuarez/opt/anaconda3/lib/python3.8/site-packages (from pysolr) (2.27.1)\n",
      "Requirement already satisfied: certifi>=2017.4.17 in /Users/rodrigojuarez/opt/anaconda3/lib/python3.8/site-packages (from requests>=2.9.1->pysolr) (2020.12.5)\n",
      "Requirement already satisfied: charset-normalizer~=2.0.0 in /Users/rodrigojuarez/opt/anaconda3/lib/python3.8/site-packages (from requests>=2.9.1->pysolr) (2.0.12)\n",
      "Requirement already satisfied: urllib3<1.27,>=1.21.1 in /Users/rodrigojuarez/opt/anaconda3/lib/python3.8/site-packages (from requests>=2.9.1->pysolr) (1.26.4)\n",
      "Requirement already satisfied: idna<4,>=2.5 in /Users/rodrigojuarez/opt/anaconda3/lib/python3.8/site-packages (from requests>=2.9.1->pysolr) (2.10)\n",
      "Note: you may need to restart the kernel to use updated packages.\n"
     ]
    }
   ],
   "source": [
    "pip install pysolr"
   ]
  },
  {
   "cell_type": "code",
   "execution_count": 1,
   "id": "bfdb5197",
   "metadata": {},
   "outputs": [],
   "source": [
    "# If on Python 2.X\n",
    "from __future__ import print_function\n",
    "\n",
    "import pysolr\n"
   ]
  },
  {
   "cell_type": "code",
   "execution_count": 41,
   "id": "1807f670",
   "metadata": {},
   "outputs": [],
   "source": [
    "# Create a client instance. The timeout and authentication options are not required.\n",
    "solr = pysolr.Solr('http://localhost:8983/solr/tech_products/',always_commit=True)"
   ]
  },
  {
   "cell_type": "code",
   "execution_count": 57,
   "id": "7bca8ef3",
   "metadata": {},
   "outputs": [
    {
     "data": {
      "text/plain": [
       "'{\\n  \"responseHeader\":{\\n    \"zkConnected\":null,\\n    \"status\":0,\\n    \"QTime\":1,\\n    \"params\":{\\n      \"q\":\"{!lucene}*:*\",\\n      \"distrib\":\"false\",\\n      \"df\":\"text\",\\n      \"preferLocalShards\":\"false\",\\n      \"rows\":\"10\",\\n      \"echoParams\":\"all\",\\n      \"rid\":\"-61\"}},\\n  \"status\":\"OK\"}\\n'"
      ]
     },
     "execution_count": 57,
     "metadata": {},
     "output_type": "execute_result"
    }
   ],
   "source": [
    "solr.ping()"
   ]
  },
  {
   "cell_type": "code",
   "execution_count": 58,
   "id": "1b10ee2c",
   "metadata": {},
   "outputs": [],
   "source": [
    "results = solr.search('')\n"
   ]
  },
  {
   "cell_type": "code",
   "execution_count": 59,
   "id": "3e2f45fe",
   "metadata": {},
   "outputs": [
    {
     "data": {
      "text/plain": [
       "'{\\n  \"responseHeader\":{\\n    \"status\":0,\\n    \"QTime\":27}}\\n'"
      ]
     },
     "execution_count": 59,
     "metadata": {},
     "output_type": "execute_result"
    }
   ],
   "source": [
    "solr.add([\n",
    "    {\n",
    "        \"id\": \"doc_1\",\n",
    "        \"title\": \"A test document\",\n",
    "    },\n",
    "    {\n",
    "        \"id\": \"doc_2\",\n",
    "        \"title\": \"The Banana: Tasty or Dangerous?\",\n",
    "        \"_doc\": [\n",
    "            { \"id\": \"child_doc_1\", \"title\": \"peel\" },\n",
    "            { \"id\": \"child_doc_2\", \"title\": \"seed\" },\n",
    "        ]\n",
    "    },\n",
    "])"
   ]
  },
  {
   "cell_type": "code",
   "execution_count": 68,
   "id": "6a773552",
   "metadata": {},
   "outputs": [],
   "source": [
    "results = solr.search('doc_1')\n"
   ]
  },
  {
   "cell_type": "code",
   "execution_count": 69,
   "id": "cd1a9abb",
   "metadata": {},
   "outputs": [
    {
     "name": "stdout",
     "output_type": "stream",
     "text": [
      "Saw 0 result(s).\n"
     ]
    }
   ],
   "source": [
    "print(\"Saw {0} result(s).\".format(len(results)))"
   ]
  },
  {
   "cell_type": "code",
   "execution_count": 70,
   "id": "cffc4fad",
   "metadata": {},
   "outputs": [],
   "source": [
    "for result in results:\n",
    "    print(\"The title is '{0}'.\".format(result['title']))\n"
   ]
  },
  {
   "cell_type": "code",
   "execution_count": 71,
   "id": "a79a297b",
   "metadata": {},
   "outputs": [],
   "source": [
    "results = solr.search('bananas', **{\n",
    "    'hl': 'true',\n",
    "    'hl.fragsize': 10,\n",
    "})"
   ]
  },
  {
   "cell_type": "code",
   "execution_count": 72,
   "id": "2d873447",
   "metadata": {},
   "outputs": [],
   "source": [
    "for doc in solr.search('*:*',fl='id',sort='id ASC',cursorMark='*'):\n",
    "    print(doc['id'])"
   ]
  },
  {
   "cell_type": "code",
   "execution_count": 73,
   "id": "535b5e8c",
   "metadata": {},
   "outputs": [
    {
     "data": {
      "text/plain": [
       "'<?xml version=\"1.0\" encoding=\"UTF-8\"?>\\n<response>\\n\\n<lst name=\"responseHeader\">\\n  <int name=\"status\">0</int>\\n  <int name=\"QTime\">15</int>\\n</lst>\\n</response>\\n'"
      ]
     },
     "execution_count": 73,
     "metadata": {},
     "output_type": "execute_result"
    }
   ],
   "source": [
    "solr.delete(id='doc_1')"
   ]
  },
  {
   "cell_type": "code",
   "execution_count": 74,
   "id": "5a7ec03e",
   "metadata": {},
   "outputs": [
    {
     "data": {
      "text/plain": [
       "'<?xml version=\"1.0\" encoding=\"UTF-8\"?>\\n<response>\\n\\n<lst name=\"responseHeader\">\\n  <int name=\"status\">0</int>\\n  <int name=\"QTime\">13</int>\\n</lst>\\n</response>\\n'"
      ]
     },
     "execution_count": 74,
     "metadata": {},
     "output_type": "execute_result"
    }
   ],
   "source": [
    "solr.delete(id=['doc_1', 'doc_2'])"
   ]
  },
  {
   "cell_type": "code",
   "execution_count": 75,
   "id": "320c816b",
   "metadata": {},
   "outputs": [
    {
     "data": {
      "text/plain": [
       "'<?xml version=\"1.0\" encoding=\"UTF-8\"?>\\n<response>\\n\\n<lst name=\"responseHeader\">\\n  <int name=\"status\">0</int>\\n  <int name=\"QTime\">3</int>\\n</lst>\\n</response>\\n'"
      ]
     },
     "execution_count": 75,
     "metadata": {},
     "output_type": "execute_result"
    }
   ],
   "source": [
    "#solr.delete(q='*:*') cuidado porque sí borra todo"
   ]
  }
 ],
 "metadata": {
  "kernelspec": {
   "display_name": "Python 3",
   "language": "python",
   "name": "python3"
  },
  "language_info": {
   "codemirror_mode": {
    "name": "ipython",
    "version": 3
   },
   "file_extension": ".py",
   "mimetype": "text/x-python",
   "name": "python",
   "nbconvert_exporter": "python",
   "pygments_lexer": "ipython3",
   "version": "3.8.8"
  }
 },
 "nbformat": 4,
 "nbformat_minor": 5
}
