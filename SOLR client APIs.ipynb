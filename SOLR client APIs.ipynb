{
 "cells": [
  {
   "cell_type": "code",
   "execution_count": 21,
   "id": "e8efa33a",
   "metadata": {},
   "outputs": [
    {
     "name": "stdout",
     "output_type": "stream",
     "text": [
      "Requirement already satisfied: simplejson in /Users/rodrigojuarez/opt/anaconda3/lib/python3.8/site-packages (3.17.6)\n",
      "Note: you may need to restart the kernel to use updated packages.\n"
     ]
    }
   ],
   "source": [
    "#pip install simplejson"
   ]
  },
  {
   "cell_type": "code",
   "execution_count": 40,
   "id": "2f427e92",
   "metadata": {},
   "outputs": [],
   "source": [
    "import urllib\n",
    "import simplejson\n",
    "import pprint\n",
    "import sys"
   ]
  },
  {
   "cell_type": "code",
   "execution_count": 41,
   "id": "06603531",
   "metadata": {},
   "outputs": [],
   "source": [
    "from urllib.request import urlopen"
   ]
  },
  {
   "cell_type": "code",
   "execution_count": 42,
   "id": "05a19454",
   "metadata": {},
   "outputs": [],
   "source": [
    "from urllib.request import urlopen"
   ]
  },
  {
   "cell_type": "code",
   "execution_count": 63,
   "id": "1ff79aff",
   "metadata": {},
   "outputs": [],
   "source": [
    "host       = \"localhost\"\n",
    "port       = \"8983\" \n",
    "collection = \"tech_products\" #Nombre del core\n",
    "qt         = \"select\"\n",
    "url        = 'http://' + host + ':' + port + '/solr/' + collection + '/' + qt + '?' #creación de url\n",
    "q          = \"q=canon\"\n",
    "fl         = \"fl=id,name\"\n",
    "fq         = \"fq=\"\n",
    "rows       = \"rows=10\"\n",
    "wt         = \"wt=json\"\n",
    "#wt        = \"wt=python\"\n",
    "params     = [ q, fl, fq, wt, rows ] \n",
    "p          = \"&\".join(params)"
   ]
  },
  {
   "cell_type": "code",
   "execution_count": 64,
   "id": "1d5c9008",
   "metadata": {},
   "outputs": [
    {
     "name": "stdout",
     "output_type": "stream",
     "text": [
      "<http.client.HTTPResponse object at 0x7ff7009bf4c0>\n"
     ]
    }
   ],
   "source": [
    "html = urlopen(url+p)\n",
    "print(html)\n",
    "connection = html\n",
    "if wt == \"wt=json\":\n",
    "  response   = simplejson.load(connection) \n",
    "else:\n",
    "  response   = eval(connection.read())"
   ]
  },
  {
   "cell_type": "code",
   "execution_count": 65,
   "id": "447b65c5",
   "metadata": {},
   "outputs": [
    {
     "name": "stdout",
     "output_type": "stream",
     "text": [
      "Number of hits: 2\n"
     ]
    }
   ],
   "source": [
    "print(\"Number of hits: \" + str(response['response']['numFound']))"
   ]
  },
  {
   "cell_type": "code",
   "execution_count": 66,
   "id": "c8d55787",
   "metadata": {},
   "outputs": [
    {
     "name": "stdout",
     "output_type": "stream",
     "text": [
      "[{'id': '9885A004', 'name': 'Canon PowerShot SD500'},\n",
      " {'id': '0579B002', 'name': 'Canon PIXMA MP500 All-In-One Photo Printer'}]\n"
     ]
    }
   ],
   "source": [
    "pprint.pprint(response['response']['docs'])"
   ]
  },
  {
   "cell_type": "markdown",
   "id": "cbf857a4",
   "metadata": {},
   "source": [
    "[SOLR client APIs, Capillas C.](https://www.zylk.net/en/web-2-0/blog/-/blogs/solr-client-apis)"
   ]
  }
 ],
 "metadata": {
  "kernelspec": {
   "display_name": "Python 3",
   "language": "python",
   "name": "python3"
  },
  "language_info": {
   "codemirror_mode": {
    "name": "ipython",
    "version": 3
   },
   "file_extension": ".py",
   "mimetype": "text/x-python",
   "name": "python",
   "nbconvert_exporter": "python",
   "pygments_lexer": "ipython3",
   "version": "3.8.8"
  }
 },
 "nbformat": 4,
 "nbformat_minor": 5
}
