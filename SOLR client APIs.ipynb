{
 "cells": [
  {
   "cell_type": "code",
   "execution_count": 21,
   "id": "c0aa9b9a",
   "metadata": {},
   "outputs": [
    {
     "name": "stdout",
     "output_type": "stream",
     "text": [
      "Requirement already satisfied: simplejson in /Users/rodrigojuarez/opt/anaconda3/lib/python3.8/site-packages (3.17.6)\n",
      "Note: you may need to restart the kernel to use updated packages.\n"
     ]
    }
   ],
   "source": [
    "#pip install simplejson"
   ]
  },
  {
   "cell_type": "code",
   "execution_count": 40,
   "id": "2a1062bf",
   "metadata": {},
   "outputs": [],
   "source": [
    "import urllib\n",
    "import simplejson\n",
    "import pprint\n",
    "import sys"
   ]
  },
  {
   "cell_type": "code",
   "execution_count": 41,
   "id": "250e3e1a",
   "metadata": {},
   "outputs": [],
   "source": [
    "from urllib.request import urlopen"
   ]
  },
  {
   "cell_type": "code",
   "execution_count": 42,
   "id": "6d71b2ab",
   "metadata": {},
   "outputs": [],
   "source": [
    "from urllib.request import urlopen"
   ]
  },
  {
   "cell_type": "code",
   "execution_count": 51,
   "id": "a268c2dc",
   "metadata": {},
   "outputs": [],
   "source": [
    "host       = \"localhost\"\n",
    "port       = \"8983\"\n",
    "collection = \"tech_products\"\n",
    "qt         = \"select\"\n",
    "url        = 'http://' + host + ':' + port + '/solr/' + collection + '/' + qt + '?'\n",
    "q          = \"q=canon\"\n",
    "fl         = \"fl=id,name\"\n",
    "fq         = \"fq=\"\n",
    "rows       = \"rows=10\"\n",
    "wt         = \"wt=json\"\n",
    "#wt        = \"wt=python\"\n",
    "params     = [ q, fl, fq, wt, rows ] \n",
    "p          = \"&\".join(params)"
   ]
  },
  {
   "cell_type": "code",
   "execution_count": 52,
   "id": "d5b4b1c0",
   "metadata": {},
   "outputs": [
    {
     "name": "stdout",
     "output_type": "stream",
     "text": [
      "<http.client.HTTPResponse object at 0x7ff700b98460>\n"
     ]
    }
   ],
   "source": [
    "html = urlopen(url+p)\n",
    "print(html)\n",
    "connection = html\n",
    "if wt == \"wt=json\":\n",
    "  response   = simplejson.load(connection) \n",
    "else:\n",
    "  response   = eval(connection.read())"
   ]
  },
  {
   "cell_type": "code",
   "execution_count": 53,
   "id": "8fb253e3",
   "metadata": {},
   "outputs": [
    {
     "name": "stdout",
     "output_type": "stream",
     "text": [
      "Number of hits: 2\n"
     ]
    }
   ],
   "source": [
    "print(\"Number of hits: \" + str(response['response']['numFound']))"
   ]
  },
  {
   "cell_type": "markdown",
   "id": "d7881c40",
   "metadata": {},
   "source": [
    "[SOLR client APIs, Capillas C.](https://www.zylk.net/en/web-2-0/blog/-/blogs/solr-client-apis)"
   ]
  }
 ],
 "metadata": {
  "kernelspec": {
   "display_name": "Python 3",
   "language": "python",
   "name": "python3"
  },
  "language_info": {
   "codemirror_mode": {
    "name": "ipython",
    "version": 3
   },
   "file_extension": ".py",
   "mimetype": "text/x-python",
   "name": "python",
   "nbconvert_exporter": "python",
   "pygments_lexer": "ipython3",
   "version": "3.8.8"
  }
 },
 "nbformat": 4,
 "nbformat_minor": 5
}
