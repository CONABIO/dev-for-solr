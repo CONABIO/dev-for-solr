{
 "cells": [
  {
   "cell_type": "code",
   "execution_count": 1,
   "id": "e8efa33a",
   "metadata": {},
   "outputs": [
    {
     "name": "stdout",
     "output_type": "stream",
     "text": [
      "Requirement already satisfied: simplejson in /home/nelsonalejandrov/anaconda3/lib/python3.9/site-packages (3.17.6)\n",
      "Note: you may need to restart the kernel to use updated packages.\n"
     ]
    }
   ],
   "source": [
    "pip install simplejson"
   ]
  },
  {
   "cell_type": "markdown",
   "id": "eeaee69f-acdf-4196-8f46-0b9b63cbf6a0",
   "metadata": {},
   "source": [
    "### Solr\n",
    "\n",
    "Es posible hacer consultas a Solr mediante HTTP a partir de Python sin requerir la instalación de un cliente adicional.\n",
    "\n",
    "Para construir un query es necesario especificar: \n",
    "\n",
    "* Request-Handler: para definir si queremos hacer una consulta o una actualización de documentos \n",
    "\n",
    "* q: query string o parámetro q. Syntax: name:canon  | field:value format. Los resultados aparecen por relevancia\n",
    "\n",
    "* fq: filtrado del query. \n",
    "\n",
    "* sort: definimos la variable y si el órden es asc o desc\n",
    "\n",
    "* start, rows: definimos el número de resultados mostrados por página\n",
    "\n",
    "* fl: aquí se define qué campos regresa la búsqueda \n",
    "\n",
    "* df: campo de búsqueda por default  \n",
    "\n",
    "* wt: definimos el formato de la respuesta, por default json. Puede ser json, xml, python, ruby, php o csv \n",
    "\n",
    "Hay atributos de búsqueda más avanzados como el faceting y hl highlighting.\n"
   ]
  },
  {
   "cell_type": "code",
   "execution_count": 2,
   "id": "2f427e92",
   "metadata": {},
   "outputs": [],
   "source": [
    "import urllib\n",
    "import simplejson\n",
    "import pprint\n",
    "import sys\n",
    "\n",
    "from urllib.request import urlopen"
   ]
  },
  {
   "cell_type": "markdown",
   "id": "3530b9d7-7fb1-41ef-88e7-5c35e96b65cd",
   "metadata": {},
   "source": [
    "Definimos el url y la colección de documents, después el query a realizar. "
   ]
  },
  {
   "cell_type": "code",
   "execution_count": 63,
   "id": "1ff79aff",
   "metadata": {},
   "outputs": [],
   "source": [
    "host       = \"localhost\"\n",
    "port       = \"8983\" \n",
    "collection = \"tech_products\" #Nombre del core\n",
    "qt         = \"select\"\n",
    "url        = 'http://' + host + ':' + port + '/solr/' + collection + '/' + qt + '?' #creación de url\n",
    "q          = \"q=canon\"\n",
    "fl         = \"fl=id,name\"\n",
    "fq         = \"fq=\"\n",
    "rows       = \"rows=10\"\n",
    "wt         = \"wt=json\"\n",
    "#wt        = \"wt=python\"\n",
    "params     = [ q, fl, fq, wt, rows ] \n",
    "p          = \"&\".join(params)"
   ]
  },
  {
   "cell_type": "code",
   "execution_count": 64,
   "id": "1d5c9008",
   "metadata": {},
   "outputs": [
    {
     "name": "stdout",
     "output_type": "stream",
     "text": [
      "<http.client.HTTPResponse object at 0x7ff7009bf4c0>\n"
     ]
    }
   ],
   "source": [
    "html = urlopen(url+p)\n",
    "print(html)\n",
    "connection = html\n",
    "if wt == \"wt=json\":\n",
    "  response   = simplejson.load(connection) \n",
    "else:\n",
    "  response   = eval(connection.read())"
   ]
  },
  {
   "cell_type": "markdown",
   "id": "2855b0c3-0eb4-4d41-959f-54d671aa58a2",
   "metadata": {},
   "source": [
    "Número de resultados de la búsqueda."
   ]
  },
  {
   "cell_type": "code",
   "execution_count": 65,
   "id": "447b65c5",
   "metadata": {},
   "outputs": [
    {
     "name": "stdout",
     "output_type": "stream",
     "text": [
      "Number of hits: 2\n"
     ]
    }
   ],
   "source": [
    "print(\"Number of hits: \" + str(response['response']['numFound']))"
   ]
  },
  {
   "cell_type": "code",
   "execution_count": 66,
   "id": "c8d55787",
   "metadata": {},
   "outputs": [
    {
     "name": "stdout",
     "output_type": "stream",
     "text": [
      "[{'id': '9885A004', 'name': 'Canon PowerShot SD500'},\n",
      " {'id': '0579B002', 'name': 'Canon PIXMA MP500 All-In-One Photo Printer'}]\n"
     ]
    }
   ],
   "source": [
    "pprint.pprint(response['response']['docs'])"
   ]
  },
  {
   "cell_type": "markdown",
   "id": "cbf857a4",
   "metadata": {},
   "source": [
    "[SOLR client APIs, Capillas C.](https://www.zylk.net/en/web-2-0/blog/-/blogs/solr-client-apis)"
   ]
  }
 ],
 "metadata": {
  "kernelspec": {
   "display_name": "Python 3 (ipykernel)",
   "language": "python",
   "name": "python3"
  },
  "language_info": {
   "codemirror_mode": {
    "name": "ipython",
    "version": 3
   },
   "file_extension": ".py",
   "mimetype": "text/x-python",
   "name": "python",
   "nbconvert_exporter": "python",
   "pygments_lexer": "ipython3",
   "version": "3.9.7"
  }
 },
 "nbformat": 4,
 "nbformat_minor": 5
}
