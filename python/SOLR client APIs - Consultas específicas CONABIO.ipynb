{
 "cells": [
  {
   "cell_type": "code",
   "execution_count": 83,
   "id": "e8efa33a",
   "metadata": {},
   "outputs": [
    {
     "name": "stdout",
     "output_type": "stream",
     "text": [
      "Requirement already satisfied: simplejson in /Users/rodrigojuarez/opt/anaconda3/lib/python3.8/site-packages (3.17.6)\n",
      "Note: you may need to restart the kernel to use updated packages.\n"
     ]
    }
   ],
   "source": [
    "pip install simplejson"
   ]
  },
  {
   "cell_type": "markdown",
   "id": "eeaee69f-acdf-4196-8f46-0b9b63cbf6a0",
   "metadata": {},
   "source": [
    "### Solr\n",
    "\n",
    "Es posible hacer consultas a Solr mediante HTTP a partir de Python sin requerir la instalación de un cliente adicional.\n",
    "\n",
    "Para construir un query es necesario especificar: \n",
    "\n",
    "* Request-Handler: para definir si queremos hacer una consulta o una actualización de documentos \n",
    "\n",
    "* q: query string o parámetro q. Syntax: name:canon  | field:value format. Los resultados aparecen por relevancia\n",
    "\n",
    "* fq: filtrado del query. \n",
    "\n",
    "* sort: definimos la variable y si el órden es asc o desc\n",
    "\n",
    "* start, rows: definimos el número de resultados mostrados por página\n",
    "\n",
    "* fl: aquí se define qué campos regresa la búsqueda \n",
    "\n",
    "* df: campo de búsqueda por default  \n",
    "\n",
    "* wt: definimos el formato de la respuesta, por default json. Puede ser json, xml, python, ruby, php o csv \n",
    "\n",
    "Hay atributos de búsqueda más avanzados como el faceting y hl highlighting.\n"
   ]
  },
  {
   "cell_type": "code",
   "execution_count": 168,
   "id": "2f427e92",
   "metadata": {},
   "outputs": [],
   "source": [
    "import urllib\n",
    "import simplejson\n",
    "import pprint\n",
    "import sys\n",
    "\n",
    "from urllib.request import urlopen"
   ]
  },
  {
   "cell_type": "markdown",
   "id": "3530b9d7-7fb1-41ef-88e7-5c35e96b65cd",
   "metadata": {},
   "source": [
    "Definimos el url y la colección de documents, después el query a realizar. "
   ]
  },
  {
   "cell_type": "markdown",
   "id": "55273c12",
   "metadata": {},
   "source": [
    "#### Filtrar archivos por nodo"
   ]
  },
  {
   "cell_type": "code",
   "execution_count": 169,
   "id": "1ff79aff",
   "metadata": {},
   "outputs": [],
   "source": [
    "host       = \"alfresco.sipecam.conabio.gob.mx\"\n",
    "port       = \"8983\" \n",
    "collection = \"alfresco\" #Nombre del core\n",
    "qt         = \"select\"\n",
    "url        = 'http://' + host + ':' + port + '/solr/' + collection + '/' + qt + '?' #creación de url\n",
    "q          = \"q=sipecam_CumulusName:95\"\n",
    "fl         = \"\"\n",
    "fl         = fl + \",[cached]&indent=on\"\n",
    "wt         = \"wt=json\"\n",
    "group      = \"group=true\"\n",
    "groupf     = \"group.field=TYPE\"\n",
    "params     = [fl, q, wt, group, groupf] \n",
    "p          = \"&\".join(params)"
   ]
  },
  {
   "cell_type": "code",
   "execution_count": 171,
   "id": "1d5c9008",
   "metadata": {},
   "outputs": [
    {
     "name": "stdout",
     "output_type": "stream",
     "text": [
      "<http.client.HTTPResponse object at 0x7fc1a8616e20>\n"
     ]
    }
   ],
   "source": [
    "html = urlopen(url+p)\n",
    "print(html)\n",
    "connection = html\n",
    "if wt == \"wt=json\":\n",
    "  response   = simplejson.load(connection) \n",
    "else:\n",
    "  response   = eval(connection.read())"
   ]
  },
  {
   "cell_type": "markdown",
   "id": "2855b0c3-0eb4-4d41-959f-54d671aa58a2",
   "metadata": {},
   "source": [
    "Número de resultados de la búsqueda."
   ]
  },
  {
   "cell_type": "code",
   "execution_count": 177,
   "id": "c8d55787",
   "metadata": {},
   "outputs": [
    {
     "name": "stdout",
     "output_type": "stream",
     "text": [
      "[{'groupValue': '{sipecam}image', 'doclist': {'numFound': 27101, 'start': 0, 'docs': [{}]}}, {'groupValue': '{sipecam}audio', 'doclist': {'numFound': 20528, 'start': 0, 'docs': [{}]}}, {'groupValue': '{sipecam}video', 'doclist': {'numFound': 16761, 'start': 0, 'docs': [{}]}}]\n"
     ]
    }
   ],
   "source": [
    "print(response['grouped']['TYPE']['groups'])"
   ]
  },
  {
   "cell_type": "markdown",
   "id": "d81f0084",
   "metadata": {},
   "source": [
    "#### Filtrar archivos por cúmulo con tipo de ecosistema"
   ]
  },
  {
   "cell_type": "code",
   "execution_count": 215,
   "id": "7dd0087c",
   "metadata": {},
   "outputs": [],
   "source": [
    "q          = \"q=sipecam_CumulusName:95 AND sipecam_EcosystemsName:Bosques templados\"\n",
    "fl         = \"fl=sipecam_EcosystemsName,id,DBID\"\n",
    "fl         = fl + \",[cached]&indent=on\"\n",
    "wt         = \"wt=json\"\n",
    "params     = [fl, q, wt] \n",
    "p          = \"&\".join(params)\n",
    "p          = p.replace(' ', '%20')"
   ]
  },
  {
   "cell_type": "code",
   "execution_count": 216,
   "id": "148a8f03",
   "metadata": {},
   "outputs": [
    {
     "name": "stdout",
     "output_type": "stream",
     "text": [
      "<http.client.HTTPResponse object at 0x7fc1a6abc0a0>\n"
     ]
    }
   ],
   "source": [
    "html = urlopen(url+p)\n",
    "print(html)\n",
    "connection = html\n",
    "if wt == \"wt=json\":\n",
    "  response   = simplejson.load(connection) \n",
    "else:\n",
    "  response   = eval(connection.read())"
   ]
  },
  {
   "cell_type": "code",
   "execution_count": 217,
   "id": "871bae63",
   "metadata": {},
   "outputs": [
    {
     "name": "stdout",
     "output_type": "stream",
     "text": [
      "Number of hits: 64390\n"
     ]
    }
   ],
   "source": [
    "print(\"Number of hits: \" + str(response['response']['numFound']))"
   ]
  },
  {
   "cell_type": "code",
   "execution_count": 201,
   "id": "3883bb01",
   "metadata": {},
   "outputs": [
    {
     "name": "stdout",
     "output_type": "stream",
     "text": [
      "[{'DBID': 509633,\n",
      "  'id': '_DEFAULT_!800000000007c6c1',\n",
      "  'sipecam_EcosystemsName': 'Bosques templados'},\n",
      " {'DBID': 505196,\n",
      "  'id': '_DEFAULT_!800000000007b56c',\n",
      "  'sipecam_EcosystemsName': 'Bosques templados'},\n",
      " {'DBID': 495155,\n",
      "  'id': '_DEFAULT_!8000000000078e33',\n",
      "  'sipecam_EcosystemsName': 'Bosques templados'},\n",
      " {'DBID': 502202,\n",
      "  'id': '_DEFAULT_!800000000007a9ba',\n",
      "  'sipecam_EcosystemsName': 'Bosques templados'},\n",
      " {'DBID': 505526,\n",
      "  'id': '_DEFAULT_!800000000007b6b6',\n",
      "  'sipecam_EcosystemsName': 'Bosques templados'},\n",
      " {'DBID': 503333,\n",
      "  'id': '_DEFAULT_!800000000007ae25',\n",
      "  'sipecam_EcosystemsName': 'Bosques templados'},\n",
      " {'DBID': 498224,\n",
      "  'id': '_DEFAULT_!8000000000079a30',\n",
      "  'sipecam_EcosystemsName': 'Bosques templados'},\n",
      " {'DBID': 493853,\n",
      "  'id': '_DEFAULT_!800000000007891d',\n",
      "  'sipecam_EcosystemsName': 'Bosques templados'},\n",
      " {'DBID': 505580,\n",
      "  'id': '_DEFAULT_!800000000007b6ec',\n",
      "  'sipecam_EcosystemsName': 'Bosques templados'},\n",
      " {'DBID': 498245,\n",
      "  'id': '_DEFAULT_!8000000000079a45',\n",
      "  'sipecam_EcosystemsName': 'Bosques templados'}]\n"
     ]
    }
   ],
   "source": [
    "pprint.pprint(response['response']['docs'])"
   ]
  },
  {
   "cell_type": "markdown",
   "id": "2255e638",
   "metadata": {},
   "source": [
    "## Para pipelines de audio y video"
   ]
  },
  {
   "cell_type": "markdown",
   "id": "0ebe3c52",
   "metadata": {},
   "source": [
    "### Producto: Soundscapes"
   ]
  },
  {
   "cell_type": "markdown",
   "id": "6990d80e",
   "metadata": {},
   "source": [
    "#### Audio: Filtrar archivos por cúmulo y sample rate (de a 48,000 Hz). Para los cúmulos 92, 95, 32, y 13"
   ]
  },
  {
   "cell_type": "code",
   "execution_count": 211,
   "id": "79e1ed2a",
   "metadata": {},
   "outputs": [],
   "source": [
    "host       = \"alfresco.sipecam.conabio.gob.mx\"\n",
    "port       = \"8983\" \n",
    "collection = \"alfresco\" #Nombre del core\n",
    "qt         = \"select\"\n",
    "url        = 'http://' + host + ':' + port + '/solr/' + collection + '/' + qt + '?' #creación de url\n",
    "q          = \"q=TYPE:{sipecam}audio AND sipecam_SampleRate:48000 AND sipecam_CumulusName:92\"\n",
    "fl         = \"fl=sipecam_CumulusName,sipecam_NodeCategoryIntegrity,sipecam_NomenclatureNode,sipecam_SerialNumber,sipecam_DateDeployment,DBID,id\"\n",
    "fl         = fl + \",[cached]&indent=on\"\n",
    "wt         = \"wt=json\"\n",
    "params     = [fl, q, wt] \n",
    "p          = \"&\".join(params)\n",
    "p          = p.replace(' ', '%20')"
   ]
  },
  {
   "cell_type": "code",
   "execution_count": 212,
   "id": "8fb2e313",
   "metadata": {},
   "outputs": [
    {
     "name": "stdout",
     "output_type": "stream",
     "text": [
      "<http.client.HTTPResponse object at 0x7fc1a8d6adc0>\n"
     ]
    }
   ],
   "source": [
    "html = urlopen(url+p)\n",
    "print(html)\n",
    "connection = html\n",
    "if wt == \"wt=json\":\n",
    "  response   = simplejson.load(connection) \n",
    "else:\n",
    "  response   = eval(connection.read())"
   ]
  },
  {
   "cell_type": "code",
   "execution_count": 213,
   "id": "b40d1fcd",
   "metadata": {},
   "outputs": [
    {
     "name": "stdout",
     "output_type": "stream",
     "text": [
      "Number of hits: 34670\n"
     ]
    }
   ],
   "source": [
    "print(\"Number of hits: \" + str(response['response']['numFound']))"
   ]
  },
  {
   "cell_type": "code",
   "execution_count": 214,
   "id": "e4d9a45c",
   "metadata": {},
   "outputs": [
    {
     "name": "stdout",
     "output_type": "stream",
     "text": [
      "[{'DBID': 231087,\n",
      "  'id': '_DEFAULT_!80000000000386af',\n",
      "  'sipecam_CumulusName': '92',\n",
      "  'sipecam_DateDeployment': '2021-07-28T00:00:00Z',\n",
      "  'sipecam_NodeCategoryIntegrity': 'Integro',\n",
      "  'sipecam_NomenclatureNode': '3_92_1_1338',\n",
      "  'sipecam_SerialNumber': '2453AC025DAEB645'},\n",
      " {'DBID': 239606,\n",
      "  'id': '_DEFAULT_!800000000003a7f6',\n",
      "  'sipecam_CumulusName': '92',\n",
      "  'sipecam_DateDeployment': '2021-07-28T00:00:00Z',\n",
      "  'sipecam_NodeCategoryIntegrity': 'Integro',\n",
      "  'sipecam_NomenclatureNode': '3_92_1_1338',\n",
      "  'sipecam_SerialNumber': '2411E5085944299F'},\n",
      " {'DBID': 237806,\n",
      "  'id': '_DEFAULT_!800000000003a0ee',\n",
      "  'sipecam_CumulusName': '92',\n",
      "  'sipecam_DateDeployment': '2021-07-28T00:00:00Z',\n",
      "  'sipecam_NodeCategoryIntegrity': 'Integro',\n",
      "  'sipecam_NomenclatureNode': '3_92_1_1338',\n",
      "  'sipecam_SerialNumber': '2411E5085944299F'},\n",
      " {'DBID': 239705,\n",
      "  'id': '_DEFAULT_!800000000003a859',\n",
      "  'sipecam_CumulusName': '92',\n",
      "  'sipecam_DateDeployment': '2021-07-28T00:00:00Z',\n",
      "  'sipecam_NodeCategoryIntegrity': 'Integro',\n",
      "  'sipecam_NomenclatureNode': '3_92_1_1338',\n",
      "  'sipecam_SerialNumber': '2411E5085944299F'},\n",
      " {'DBID': 226740,\n",
      "  'id': '_DEFAULT_!80000000000375b4',\n",
      "  'sipecam_CumulusName': '92',\n",
      "  'sipecam_DateDeployment': '2021-07-28T00:00:00Z',\n",
      "  'sipecam_NodeCategoryIntegrity': 'Integro',\n",
      "  'sipecam_NomenclatureNode': '3_92_1_1338',\n",
      "  'sipecam_SerialNumber': '2453AC025DAEB645'},\n",
      " {'DBID': 237938,\n",
      "  'id': '_DEFAULT_!800000000003a172',\n",
      "  'sipecam_CumulusName': '92',\n",
      "  'sipecam_DateDeployment': '2021-07-28T00:00:00Z',\n",
      "  'sipecam_NodeCategoryIntegrity': 'Integro',\n",
      "  'sipecam_NomenclatureNode': '3_92_1_1338',\n",
      "  'sipecam_SerialNumber': '2411E5085944299F'},\n",
      " {'DBID': 243341,\n",
      "  'id': '_DEFAULT_!800000000003b68d',\n",
      "  'sipecam_CumulusName': '92',\n",
      "  'sipecam_DateDeployment': '2021-07-28T00:00:00Z',\n",
      "  'sipecam_NodeCategoryIntegrity': 'Integro',\n",
      "  'sipecam_NomenclatureNode': '3_92_1_1338',\n",
      "  'sipecam_SerialNumber': '2411E5085944299F'},\n",
      " {'DBID': 231306,\n",
      "  'id': '_DEFAULT_!800000000003878a',\n",
      "  'sipecam_CumulusName': '92',\n",
      "  'sipecam_DateDeployment': '2021-07-28T00:00:00Z',\n",
      "  'sipecam_NodeCategoryIntegrity': 'Integro',\n",
      "  'sipecam_NomenclatureNode': '3_92_1_1338',\n",
      "  'sipecam_SerialNumber': '2453AC025DAEB645'},\n",
      " {'DBID': 243356,\n",
      "  'id': '_DEFAULT_!800000000003b69c',\n",
      "  'sipecam_CumulusName': '92',\n",
      "  'sipecam_DateDeployment': '2021-07-28T00:00:00Z',\n",
      "  'sipecam_NodeCategoryIntegrity': 'Integro',\n",
      "  'sipecam_NomenclatureNode': '3_92_1_1338',\n",
      "  'sipecam_SerialNumber': '2411E5085944299F'},\n",
      " {'DBID': 229215,\n",
      "  'id': '_DEFAULT_!8000000000037f5f',\n",
      "  'sipecam_CumulusName': '92',\n",
      "  'sipecam_DateDeployment': '2021-07-28T00:00:00Z',\n",
      "  'sipecam_NodeCategoryIntegrity': 'Integro',\n",
      "  'sipecam_NomenclatureNode': '3_92_1_1338',\n",
      "  'sipecam_SerialNumber': '2453AC025DAEB645'}]\n"
     ]
    }
   ],
   "source": [
    "pprint.pprint(response['response']['docs'])"
   ]
  },
  {
   "cell_type": "markdown",
   "id": "9ec7a86e",
   "metadata": {},
   "source": [
    "### Detección y classificación de Murcielagos"
   ]
  },
  {
   "cell_type": "markdown",
   "id": "b7f94b57",
   "metadata": {},
   "source": [
    "#### Filtrar archivos por cúmulo y sample rate (mayor a 100,000 Hz). Para los cúmulos 92, 95, 32, y 13"
   ]
  },
  {
   "cell_type": "code",
   "execution_count": 207,
   "id": "98c52243",
   "metadata": {},
   "outputs": [],
   "source": [
    "q          = \"q=sipecam_CumulusName:13 OR sipecam_CumulusName:32 OR sipecam_CumulusName:92 OR sipecam_CumulusName:95 AND TYPE:{sipecam}audio AND audio_sampleRate: [0 TO 48000]\"\n",
    "fl         = \"fl=PATH,sipecam*\"\n",
    "fl         = fl + \",[cached]&indent=on\"\n",
    "wt         = \"wt=json\"\n",
    "params     = [fl, q, wt] \n",
    "p          = \"&\".join(params)\n",
    "p          = p.replace(' ', '%20')"
   ]
  },
  {
   "cell_type": "code",
   "execution_count": 208,
   "id": "59520f0b",
   "metadata": {},
   "outputs": [
    {
     "name": "stdout",
     "output_type": "stream",
     "text": [
      "<http.client.HTTPResponse object at 0x7fc1a8e41f70>\n"
     ]
    }
   ],
   "source": [
    "html = urlopen(url+p)\n",
    "print(html)\n",
    "connection = html\n",
    "if wt == \"wt=json\":\n",
    "  response   = simplejson.load(connection) \n",
    "else:\n",
    "  response   = eval(connection.read())"
   ]
  },
  {
   "cell_type": "code",
   "execution_count": 209,
   "id": "88b4a626",
   "metadata": {},
   "outputs": [
    {
     "name": "stdout",
     "output_type": "stream",
     "text": [
      "Number of hits: 154861\n"
     ]
    }
   ],
   "source": [
    "print(\"Number of hits: \" + str(response['response']['numFound']))"
   ]
  },
  {
   "cell_type": "code",
   "execution_count": 210,
   "id": "8f3259a2",
   "metadata": {},
   "outputs": [
    {
     "name": "stdout",
     "output_type": "stream",
     "text": [
      "[{'PATH': ['/{http://www.alfresco.org/model/application/1.0}company_home/{http://www.alfresco.org/model/site/1.0}sites/{http://www.alfresco.org/model/content/1.0}sipecam/{http://www.alfresco.org/model/content/1.0}documentLibrary/{http://www.alfresco.org/model/content/1.0}_x0039_5/{http://www.alfresco.org/model/content/1.0}_x0031__95_0_1348/{http://www.alfresco.org/model/content/1.0}_x0032_48C7D075B1FB916/{http://www.alfresco.org/model/content/1.0}_x0032_021-08-04/{http://www.alfresco.org/model/content/1.0}audios/{http://www.alfresco.org/model/content/1.0}Audible/{http://www.alfresco.org/model/content/1.0}_x0031_2f920cd8625390b19908062274f9876.WAV'],\n",
      "  'id': '_DEFAULT_!800000000004ed14',\n",
      "  'sipecam:Comment': ['Recorded at 00:20:00 06/09/2021 (UTC-5) by AudioMoth '\n",
      "                      '248C7D075B1FB916 at medium gain setting while battery '\n",
      "                      'state was 3.9V and temperature was 20.1C.'],\n",
      "  'sipecam_AvgBytesPerSec': 96000.0,\n",
      "  'sipecam_Battery': '3.9V',\n",
      "  'sipecam_BitRate': '768.0 Kbit/sec',\n",
      "  'sipecam_BitsPerSample': 16.0,\n",
      "  'sipecam_CentroidCumulusLatitude': 31.22829,\n",
      "  'sipecam_CentroidCumulusLongitude': -108.85782,\n",
      "  'sipecam_CumulusName': '95',\n",
      "  'sipecam_DateDeployment': '2021-08-04T00:00:00Z',\n",
      "  'sipecam_DateDeployment_unit_of_time_day_of_month': 4,\n",
      "  'sipecam_DateDeployment_unit_of_time_day_of_week': 3,\n",
      "  'sipecam_DateDeployment_unit_of_time_day_of_year': 216,\n",
      "  'sipecam_DateDeployment_unit_of_time_month': 8,\n",
      "  'sipecam_DateDeployment_unit_of_time_quarter': 3,\n",
      "  'sipecam_DateDeployment_unit_of_time_year': 2021,\n",
      "  'sipecam_DateTimeOriginal': '2021-09-06T05:20:00Z',\n",
      "  'sipecam_DateTimeOriginal_unit_of_time_day_of_month': 6,\n",
      "  'sipecam_DateTimeOriginal_unit_of_time_day_of_week': 1,\n",
      "  'sipecam_DateTimeOriginal_unit_of_time_day_of_year': 249,\n",
      "  'sipecam_DateTimeOriginal_unit_of_time_hour': 5,\n",
      "  'sipecam_DateTimeOriginal_unit_of_time_minute': 20,\n",
      "  'sipecam_DateTimeOriginal_unit_of_time_month': 9,\n",
      "  'sipecam_DateTimeOriginal_unit_of_time_quarter': 3,\n",
      "  'sipecam_DateTimeOriginal_unit_of_time_second': 0,\n",
      "  'sipecam_DateTimeOriginal_unit_of_time_year': 2021,\n",
      "  'sipecam_Duration': 60.005085,\n",
      "  'sipecam_EcosystemsName': 'Bosques templados',\n",
      "  'sipecam_Encoding': 'Microsoft PCM',\n",
      "  'sipecam_FileSize': 5767168,\n",
      "  'sipecam_Gain': 'medium',\n",
      "  'sipecam_Latitude': 31.25407,\n",
      "  'sipecam_Longitude': -108.95226,\n",
      "  'sipecam_NodeCategoryIntegrity': 'Degradado',\n",
      "  'sipecam_NomenclatureNode': '1_95_0_1348',\n",
      "  'sipecam_NumChannels': 1,\n",
      "  'sipecam_SampleRate': 48000.0,\n",
      "  'sipecam_SerialNumber': '248C7D075B1FB916',\n",
      "  'sipecam_Timeexp': 1.0,\n",
      "  'sipecam_Timezone': 'UTC'},\n",
      " {'PATH': ['/{http://www.alfresco.org/model/application/1.0}company_home/{http://www.alfresco.org/model/site/1.0}sites/{http://www.alfresco.org/model/content/1.0}sipecam/{http://www.alfresco.org/model/content/1.0}documentLibrary/{http://www.alfresco.org/model/content/1.0}_x0039_5/{http://www.alfresco.org/model/content/1.0}_x0031__95_0_1348/{http://www.alfresco.org/model/content/1.0}_x0032_48C7D075B1FB916/{http://www.alfresco.org/model/content/1.0}_x0032_021-08-04/{http://www.alfresco.org/model/content/1.0}audios/{http://www.alfresco.org/model/content/1.0}Audible/{http://www.alfresco.org/model/content/1.0}_x0033_20e6721fead7e5e6bdf654bf815aac6.WAV'],\n",
      "  'id': '_DEFAULT_!8000000000050c4f',\n",
      "  'sipecam:Comment': ['Recorded at 02:10:00 28/08/2021 (UTC-5) by AudioMoth '\n",
      "                      '248C7D075B1FB916 at medium gain setting while battery '\n",
      "                      'state was 4.2V and temperature was 22.8C.'],\n",
      "  'sipecam_AvgBytesPerSec': 96000.0,\n",
      "  'sipecam_Battery': '4.2V',\n",
      "  'sipecam_BitRate': '768.0 Kbit/sec',\n",
      "  'sipecam_BitsPerSample': 16.0,\n",
      "  'sipecam_CentroidCumulusLatitude': 31.22829,\n",
      "  'sipecam_CentroidCumulusLongitude': -108.85782,\n",
      "  'sipecam_CumulusName': '95',\n",
      "  'sipecam_DateDeployment': '2021-08-04T00:00:00Z',\n",
      "  'sipecam_DateDeployment_unit_of_time_day_of_month': 4,\n",
      "  'sipecam_DateDeployment_unit_of_time_day_of_week': 3,\n",
      "  'sipecam_DateDeployment_unit_of_time_day_of_year': 216,\n",
      "  'sipecam_DateDeployment_unit_of_time_month': 8,\n",
      "  'sipecam_DateDeployment_unit_of_time_quarter': 3,\n",
      "  'sipecam_DateDeployment_unit_of_time_year': 2021,\n",
      "  'sipecam_DateTimeOriginal': '2021-08-28T07:10:00Z',\n",
      "  'sipecam_DateTimeOriginal_unit_of_time_day_of_month': 28,\n",
      "  'sipecam_DateTimeOriginal_unit_of_time_day_of_week': 6,\n",
      "  'sipecam_DateTimeOriginal_unit_of_time_day_of_year': 240,\n",
      "  'sipecam_DateTimeOriginal_unit_of_time_hour': 7,\n",
      "  'sipecam_DateTimeOriginal_unit_of_time_minute': 10,\n",
      "  'sipecam_DateTimeOriginal_unit_of_time_month': 8,\n",
      "  'sipecam_DateTimeOriginal_unit_of_time_quarter': 3,\n",
      "  'sipecam_DateTimeOriginal_unit_of_time_second': 0,\n",
      "  'sipecam_DateTimeOriginal_unit_of_time_year': 2021,\n",
      "  'sipecam_Duration': 60.005085,\n",
      "  'sipecam_EcosystemsName': 'Bosques templados',\n",
      "  'sipecam_Encoding': 'Microsoft PCM',\n",
      "  'sipecam_FileSize': 5767168,\n",
      "  'sipecam_Gain': 'medium',\n",
      "  'sipecam_Latitude': 31.25407,\n",
      "  'sipecam_Longitude': -108.95226,\n",
      "  'sipecam_NodeCategoryIntegrity': 'Degradado',\n",
      "  'sipecam_NomenclatureNode': '1_95_0_1348',\n",
      "  'sipecam_NumChannels': 1,\n",
      "  'sipecam_SampleRate': 48000.0,\n",
      "  'sipecam_SerialNumber': '248C7D075B1FB916',\n",
      "  'sipecam_Timeexp': 1.0,\n",
      "  'sipecam_Timezone': 'UTC'},\n",
      " {'PATH': ['/{http://www.alfresco.org/model/application/1.0}company_home/{http://www.alfresco.org/model/site/1.0}sites/{http://www.alfresco.org/model/content/1.0}sipecam/{http://www.alfresco.org/model/content/1.0}documentLibrary/{http://www.alfresco.org/model/content/1.0}_x0039_5/{http://www.alfresco.org/model/content/1.0}_x0031__95_0_1348/{http://www.alfresco.org/model/content/1.0}_x0032_48C7D075B1FB916/{http://www.alfresco.org/model/content/1.0}_x0032_021-08-04/{http://www.alfresco.org/model/content/1.0}audios/{http://www.alfresco.org/model/content/1.0}Audible/{http://www.alfresco.org/model/content/1.0}_x0030_0729fb2e4e8a7b59d9ba253b7f14a03.WAV'],\n",
      "  'id': '_DEFAULT_!800000000004d15d',\n",
      "  'sipecam:Comment': ['Recorded at 00:50:00 31/08/2021 (UTC-5) by AudioMoth '\n",
      "                      '248C7D075B1FB916 at medium gain setting while battery '\n",
      "                      'state was 4.1V and temperature was 23.3C.'],\n",
      "  'sipecam_AvgBytesPerSec': 96000.0,\n",
      "  'sipecam_Battery': '4.1V',\n",
      "  'sipecam_BitRate': '768.0 Kbit/sec',\n",
      "  'sipecam_BitsPerSample': 16.0,\n",
      "  'sipecam_CentroidCumulusLatitude': 31.22829,\n",
      "  'sipecam_CentroidCumulusLongitude': -108.85782,\n",
      "  'sipecam_CumulusName': '95',\n",
      "  'sipecam_DateDeployment': '2021-08-04T00:00:00Z',\n",
      "  'sipecam_DateDeployment_unit_of_time_day_of_month': 4,\n",
      "  'sipecam_DateDeployment_unit_of_time_day_of_week': 3,\n",
      "  'sipecam_DateDeployment_unit_of_time_day_of_year': 216,\n",
      "  'sipecam_DateDeployment_unit_of_time_month': 8,\n",
      "  'sipecam_DateDeployment_unit_of_time_quarter': 3,\n",
      "  'sipecam_DateDeployment_unit_of_time_year': 2021,\n",
      "  'sipecam_DateTimeOriginal': '2021-08-31T05:50:00Z',\n",
      "  'sipecam_DateTimeOriginal_unit_of_time_day_of_month': 31,\n",
      "  'sipecam_DateTimeOriginal_unit_of_time_day_of_week': 2,\n",
      "  'sipecam_DateTimeOriginal_unit_of_time_day_of_year': 243,\n",
      "  'sipecam_DateTimeOriginal_unit_of_time_hour': 5,\n",
      "  'sipecam_DateTimeOriginal_unit_of_time_minute': 50,\n",
      "  'sipecam_DateTimeOriginal_unit_of_time_month': 8,\n",
      "  'sipecam_DateTimeOriginal_unit_of_time_quarter': 3,\n",
      "  'sipecam_DateTimeOriginal_unit_of_time_second': 0,\n",
      "  'sipecam_DateTimeOriginal_unit_of_time_year': 2021,\n",
      "  'sipecam_Duration': 60.005085,\n",
      "  'sipecam_EcosystemsName': 'Bosques templados',\n",
      "  'sipecam_Encoding': 'Microsoft PCM',\n",
      "  'sipecam_FileSize': 5767168,\n",
      "  'sipecam_Gain': 'medium',\n",
      "  'sipecam_Latitude': 31.25407,\n",
      "  'sipecam_Longitude': -108.95226,\n",
      "  'sipecam_NodeCategoryIntegrity': 'Degradado',\n",
      "  'sipecam_NomenclatureNode': '1_95_0_1348',\n",
      "  'sipecam_NumChannels': 1,\n",
      "  'sipecam_SampleRate': 48000.0,\n",
      "  'sipecam_SerialNumber': '248C7D075B1FB916',\n",
      "  'sipecam_Timeexp': 1.0,\n",
      "  'sipecam_Timezone': 'UTC'},\n",
      " {'PATH': ['/{http://www.alfresco.org/model/application/1.0}company_home/{http://www.alfresco.org/model/site/1.0}sites/{http://www.alfresco.org/model/content/1.0}sipecam/{http://www.alfresco.org/model/content/1.0}documentLibrary/{http://www.alfresco.org/model/content/1.0}_x0039_5/{http://www.alfresco.org/model/content/1.0}_x0031__95_0_1348/{http://www.alfresco.org/model/content/1.0}_x0032_48C7D075B1FB916/{http://www.alfresco.org/model/content/1.0}_x0032_021-08-04/{http://www.alfresco.org/model/content/1.0}audios/{http://www.alfresco.org/model/content/1.0}Audible/{http://www.alfresco.org/model/content/1.0}_x0033_4cc27df0217fbd4995ac4ac3d3e1917.WAV'],\n",
      "  'id': '_DEFAULT_!800000000004dab1',\n",
      "  'sipecam:Comment': ['Recorded at 18:40:00 29/08/2021 (UTC-5) by AudioMoth '\n",
      "                      '248C7D075B1FB916 at medium gain setting while battery '\n",
      "                      'state was 4.2V and temperature was 37.2C.'],\n",
      "  'sipecam_AvgBytesPerSec': 96000.0,\n",
      "  'sipecam_Battery': '4.2V',\n",
      "  'sipecam_BitRate': '768.0 Kbit/sec',\n",
      "  'sipecam_BitsPerSample': 16.0,\n",
      "  'sipecam_CentroidCumulusLatitude': 31.22829,\n",
      "  'sipecam_CentroidCumulusLongitude': -108.85782,\n",
      "  'sipecam_CumulusName': '95',\n",
      "  'sipecam_DateDeployment': '2021-08-04T00:00:00Z',\n",
      "  'sipecam_DateDeployment_unit_of_time_day_of_month': 4,\n",
      "  'sipecam_DateDeployment_unit_of_time_day_of_week': 3,\n",
      "  'sipecam_DateDeployment_unit_of_time_day_of_year': 216,\n",
      "  'sipecam_DateDeployment_unit_of_time_month': 8,\n",
      "  'sipecam_DateDeployment_unit_of_time_quarter': 3,\n",
      "  'sipecam_DateDeployment_unit_of_time_year': 2021,\n",
      "  'sipecam_DateTimeOriginal': '2021-08-29T23:40:00Z',\n",
      "  'sipecam_DateTimeOriginal_unit_of_time_day_of_month': 29,\n",
      "  'sipecam_DateTimeOriginal_unit_of_time_day_of_week': 7,\n",
      "  'sipecam_DateTimeOriginal_unit_of_time_day_of_year': 241,\n",
      "  'sipecam_DateTimeOriginal_unit_of_time_hour': 23,\n",
      "  'sipecam_DateTimeOriginal_unit_of_time_minute': 40,\n",
      "  'sipecam_DateTimeOriginal_unit_of_time_month': 8,\n",
      "  'sipecam_DateTimeOriginal_unit_of_time_quarter': 3,\n",
      "  'sipecam_DateTimeOriginal_unit_of_time_second': 0,\n",
      "  'sipecam_DateTimeOriginal_unit_of_time_year': 2021,\n",
      "  'sipecam_Duration': 60.005085,\n",
      "  'sipecam_EcosystemsName': 'Bosques templados',\n",
      "  'sipecam_Encoding': 'Microsoft PCM',\n",
      "  'sipecam_FileSize': 5767168,\n",
      "  'sipecam_Gain': 'medium',\n",
      "  'sipecam_Latitude': 31.25407,\n",
      "  'sipecam_Longitude': -108.95226,\n",
      "  'sipecam_NodeCategoryIntegrity': 'Degradado',\n",
      "  'sipecam_NomenclatureNode': '1_95_0_1348',\n",
      "  'sipecam_NumChannels': 1,\n",
      "  'sipecam_SampleRate': 48000.0,\n",
      "  'sipecam_SerialNumber': '248C7D075B1FB916',\n",
      "  'sipecam_Timeexp': 1.0,\n",
      "  'sipecam_Timezone': 'UTC'},\n",
      " {'PATH': ['/{http://www.alfresco.org/model/application/1.0}company_home/{http://www.alfresco.org/model/site/1.0}sites/{http://www.alfresco.org/model/content/1.0}sipecam/{http://www.alfresco.org/model/content/1.0}documentLibrary/{http://www.alfresco.org/model/content/1.0}_x0039_5/{http://www.alfresco.org/model/content/1.0}_x0031__95_0_1348/{http://www.alfresco.org/model/content/1.0}_x0032_48C7D075B1FB916/{http://www.alfresco.org/model/content/1.0}_x0032_021-08-04/{http://www.alfresco.org/model/content/1.0}audios/{http://www.alfresco.org/model/content/1.0}Audible/{http://www.alfresco.org/model/content/1.0}_x0032_a36409523c982ea1d53501e544fa56c.WAV'],\n",
      "  'id': '_DEFAULT_!800000000004d5ef',\n",
      "  'sipecam:Comment': ['Recorded at 00:50:00 22/08/2021 (UTC-5) by AudioMoth '\n",
      "                      '248C7D075B1FB916 at medium gain setting while battery '\n",
      "                      'state was 4.3V and temperature was 22.9C.'],\n",
      "  'sipecam_AvgBytesPerSec': 96000.0,\n",
      "  'sipecam_Battery': '4.3V',\n",
      "  'sipecam_BitRate': '768.0 Kbit/sec',\n",
      "  'sipecam_BitsPerSample': 16.0,\n",
      "  'sipecam_CentroidCumulusLatitude': 31.22829,\n",
      "  'sipecam_CentroidCumulusLongitude': -108.85782,\n",
      "  'sipecam_CumulusName': '95',\n",
      "  'sipecam_DateDeployment': '2021-08-04T00:00:00Z',\n",
      "  'sipecam_DateDeployment_unit_of_time_day_of_month': 4,\n",
      "  'sipecam_DateDeployment_unit_of_time_day_of_week': 3,\n",
      "  'sipecam_DateDeployment_unit_of_time_day_of_year': 216,\n",
      "  'sipecam_DateDeployment_unit_of_time_month': 8,\n",
      "  'sipecam_DateDeployment_unit_of_time_quarter': 3,\n",
      "  'sipecam_DateDeployment_unit_of_time_year': 2021,\n",
      "  'sipecam_DateTimeOriginal': '2021-08-22T05:50:00Z',\n",
      "  'sipecam_DateTimeOriginal_unit_of_time_day_of_month': 22,\n",
      "  'sipecam_DateTimeOriginal_unit_of_time_day_of_week': 7,\n",
      "  'sipecam_DateTimeOriginal_unit_of_time_day_of_year': 234,\n",
      "  'sipecam_DateTimeOriginal_unit_of_time_hour': 5,\n",
      "  'sipecam_DateTimeOriginal_unit_of_time_minute': 50,\n",
      "  'sipecam_DateTimeOriginal_unit_of_time_month': 8,\n",
      "  'sipecam_DateTimeOriginal_unit_of_time_quarter': 3,\n",
      "  'sipecam_DateTimeOriginal_unit_of_time_second': 0,\n",
      "  'sipecam_DateTimeOriginal_unit_of_time_year': 2021,\n",
      "  'sipecam_Duration': 60.005085,\n",
      "  'sipecam_EcosystemsName': 'Bosques templados',\n",
      "  'sipecam_Encoding': 'Microsoft PCM',\n",
      "  'sipecam_FileSize': 5767168,\n",
      "  'sipecam_Gain': 'medium',\n",
      "  'sipecam_Latitude': 31.25407,\n",
      "  'sipecam_Longitude': -108.95226,\n",
      "  'sipecam_NodeCategoryIntegrity': 'Degradado',\n",
      "  'sipecam_NomenclatureNode': '1_95_0_1348',\n",
      "  'sipecam_NumChannels': 1,\n",
      "  'sipecam_SampleRate': 48000.0,\n",
      "  'sipecam_SerialNumber': '248C7D075B1FB916',\n",
      "  'sipecam_Timeexp': 1.0,\n",
      "  'sipecam_Timezone': 'UTC'},\n",
      " {'PATH': ['/{http://www.alfresco.org/model/application/1.0}company_home/{http://www.alfresco.org/model/site/1.0}sites/{http://www.alfresco.org/model/content/1.0}sipecam/{http://www.alfresco.org/model/content/1.0}documentLibrary/{http://www.alfresco.org/model/content/1.0}_x0039_5/{http://www.alfresco.org/model/content/1.0}_x0031__95_0_1348/{http://www.alfresco.org/model/content/1.0}_x0032_48C7D075B1FB916/{http://www.alfresco.org/model/content/1.0}_x0032_021-08-04/{http://www.alfresco.org/model/content/1.0}audios/{http://www.alfresco.org/model/content/1.0}Audible/{http://www.alfresco.org/model/content/1.0}_x0030_da93a658939add1a4994b8d11a9978c.WAV'],\n",
      "  'id': '_DEFAULT_!800000000004f7d0',\n",
      "  'sipecam:Comment': ['Recorded at 16:20:00 16/09/2021 (UTC-5) by AudioMoth '\n",
      "                      '248C7D075B1FB916 at medium gain setting while battery '\n",
      "                      'state was 3.5V and temperature was 35.6C.'],\n",
      "  'sipecam_AvgBytesPerSec': 96000.0,\n",
      "  'sipecam_Battery': '3.5V',\n",
      "  'sipecam_BitRate': '768.0 Kbit/sec',\n",
      "  'sipecam_BitsPerSample': 16.0,\n",
      "  'sipecam_CentroidCumulusLatitude': 31.22829,\n",
      "  'sipecam_CentroidCumulusLongitude': -108.85782,\n",
      "  'sipecam_CumulusName': '95',\n",
      "  'sipecam_DateDeployment': '2021-08-04T00:00:00Z',\n",
      "  'sipecam_DateDeployment_unit_of_time_day_of_month': 4,\n",
      "  'sipecam_DateDeployment_unit_of_time_day_of_week': 3,\n",
      "  'sipecam_DateDeployment_unit_of_time_day_of_year': 216,\n",
      "  'sipecam_DateDeployment_unit_of_time_month': 8,\n",
      "  'sipecam_DateDeployment_unit_of_time_quarter': 3,\n",
      "  'sipecam_DateDeployment_unit_of_time_year': 2021,\n",
      "  'sipecam_DateTimeOriginal': '2021-09-16T21:20:00Z',\n",
      "  'sipecam_DateTimeOriginal_unit_of_time_day_of_month': 16,\n",
      "  'sipecam_DateTimeOriginal_unit_of_time_day_of_week': 4,\n",
      "  'sipecam_DateTimeOriginal_unit_of_time_day_of_year': 259,\n",
      "  'sipecam_DateTimeOriginal_unit_of_time_hour': 21,\n",
      "  'sipecam_DateTimeOriginal_unit_of_time_minute': 20,\n",
      "  'sipecam_DateTimeOriginal_unit_of_time_month': 9,\n",
      "  'sipecam_DateTimeOriginal_unit_of_time_quarter': 3,\n",
      "  'sipecam_DateTimeOriginal_unit_of_time_second': 0,\n",
      "  'sipecam_DateTimeOriginal_unit_of_time_year': 2021,\n",
      "  'sipecam_Duration': 60.005085,\n",
      "  'sipecam_EcosystemsName': 'Bosques templados',\n",
      "  'sipecam_Encoding': 'Microsoft PCM',\n",
      "  'sipecam_FileSize': 5767168,\n",
      "  'sipecam_Gain': 'medium',\n",
      "  'sipecam_Latitude': 31.25407,\n",
      "  'sipecam_Longitude': -108.95226,\n",
      "  'sipecam_NodeCategoryIntegrity': 'Degradado',\n",
      "  'sipecam_NomenclatureNode': '1_95_0_1348',\n",
      "  'sipecam_NumChannels': 1,\n",
      "  'sipecam_SampleRate': 48000.0,\n",
      "  'sipecam_SerialNumber': '248C7D075B1FB916',\n",
      "  'sipecam_Timeexp': 1.0,\n",
      "  'sipecam_Timezone': 'UTC'},\n",
      " {'PATH': ['/{http://www.alfresco.org/model/application/1.0}company_home/{http://www.alfresco.org/model/site/1.0}sites/{http://www.alfresco.org/model/content/1.0}sipecam/{http://www.alfresco.org/model/content/1.0}documentLibrary/{http://www.alfresco.org/model/content/1.0}_x0039_5/{http://www.alfresco.org/model/content/1.0}_x0031__95_0_1348/{http://www.alfresco.org/model/content/1.0}_x0032_48C7D075B1FB916/{http://www.alfresco.org/model/content/1.0}_x0032_021-08-04/{http://www.alfresco.org/model/content/1.0}audios/{http://www.alfresco.org/model/content/1.0}Audible/{http://www.alfresco.org/model/content/1.0}_x0032_9b071d57b535d00e8c13a05add2926b.WAV'],\n",
      "  'id': '_DEFAULT_!800000000004e462',\n",
      "  'sipecam:Comment': ['Recorded at 04:50:00 20/08/2021 (UTC-5) by AudioMoth '\n",
      "                      '248C7D075B1FB916 at medium gain setting while battery '\n",
      "                      'state was 4.3V and temperature was 19.0C.'],\n",
      "  'sipecam_AvgBytesPerSec': 96000.0,\n",
      "  'sipecam_Battery': '4.3V',\n",
      "  'sipecam_BitRate': '768.0 Kbit/sec',\n",
      "  'sipecam_BitsPerSample': 16.0,\n",
      "  'sipecam_CentroidCumulusLatitude': 31.22829,\n",
      "  'sipecam_CentroidCumulusLongitude': -108.85782,\n",
      "  'sipecam_CumulusName': '95',\n",
      "  'sipecam_DateDeployment': '2021-08-04T00:00:00Z',\n",
      "  'sipecam_DateDeployment_unit_of_time_day_of_month': 4,\n",
      "  'sipecam_DateDeployment_unit_of_time_day_of_week': 3,\n",
      "  'sipecam_DateDeployment_unit_of_time_day_of_year': 216,\n",
      "  'sipecam_DateDeployment_unit_of_time_month': 8,\n",
      "  'sipecam_DateDeployment_unit_of_time_quarter': 3,\n",
      "  'sipecam_DateDeployment_unit_of_time_year': 2021,\n",
      "  'sipecam_DateTimeOriginal': '2021-08-20T09:50:00Z',\n",
      "  'sipecam_DateTimeOriginal_unit_of_time_day_of_month': 20,\n",
      "  'sipecam_DateTimeOriginal_unit_of_time_day_of_week': 5,\n",
      "  'sipecam_DateTimeOriginal_unit_of_time_day_of_year': 232,\n",
      "  'sipecam_DateTimeOriginal_unit_of_time_hour': 9,\n",
      "  'sipecam_DateTimeOriginal_unit_of_time_minute': 50,\n",
      "  'sipecam_DateTimeOriginal_unit_of_time_month': 8,\n",
      "  'sipecam_DateTimeOriginal_unit_of_time_quarter': 3,\n",
      "  'sipecam_DateTimeOriginal_unit_of_time_second': 0,\n",
      "  'sipecam_DateTimeOriginal_unit_of_time_year': 2021,\n",
      "  'sipecam_Duration': 60.005085,\n",
      "  'sipecam_EcosystemsName': 'Bosques templados',\n",
      "  'sipecam_Encoding': 'Microsoft PCM',\n",
      "  'sipecam_FileSize': 5767168,\n",
      "  'sipecam_Gain': 'medium',\n",
      "  'sipecam_Latitude': 31.25407,\n",
      "  'sipecam_Longitude': -108.95226,\n",
      "  'sipecam_NodeCategoryIntegrity': 'Degradado',\n",
      "  'sipecam_NomenclatureNode': '1_95_0_1348',\n",
      "  'sipecam_NumChannels': 1,\n",
      "  'sipecam_SampleRate': 48000.0,\n",
      "  'sipecam_SerialNumber': '248C7D075B1FB916',\n",
      "  'sipecam_Timeexp': 1.0,\n",
      "  'sipecam_Timezone': 'UTC'},\n",
      " {'PATH': ['/{http://www.alfresco.org/model/application/1.0}company_home/{http://www.alfresco.org/model/site/1.0}sites/{http://www.alfresco.org/model/content/1.0}sipecam/{http://www.alfresco.org/model/content/1.0}documentLibrary/{http://www.alfresco.org/model/content/1.0}_x0039_5/{http://www.alfresco.org/model/content/1.0}_x0031__95_0_1348/{http://www.alfresco.org/model/content/1.0}_x0032_48C7D075B1FB916/{http://www.alfresco.org/model/content/1.0}_x0032_021-08-04/{http://www.alfresco.org/model/content/1.0}audios/{http://www.alfresco.org/model/content/1.0}Audible/{http://www.alfresco.org/model/content/1.0}_x0030_5038e2d2b3b194ba412e1249eee5eb4.WAV'],\n",
      "  'id': '_DEFAULT_!8000000000050c6d',\n",
      "  'sipecam:Comment': ['Recorded at 19:30:00 12/09/2021 (UTC-5) by AudioMoth '\n",
      "                      '248C7D075B1FB916 at medium gain setting while battery '\n",
      "                      'state was 3.6V and temperature was 29.0C.'],\n",
      "  'sipecam_AvgBytesPerSec': 96000.0,\n",
      "  'sipecam_Battery': '3.6V',\n",
      "  'sipecam_BitRate': '768.0 Kbit/sec',\n",
      "  'sipecam_BitsPerSample': 16.0,\n",
      "  'sipecam_CentroidCumulusLatitude': 31.22829,\n",
      "  'sipecam_CentroidCumulusLongitude': -108.85782,\n",
      "  'sipecam_CumulusName': '95',\n",
      "  'sipecam_DateDeployment': '2021-08-04T00:00:00Z',\n",
      "  'sipecam_DateDeployment_unit_of_time_day_of_month': 4,\n",
      "  'sipecam_DateDeployment_unit_of_time_day_of_week': 3,\n",
      "  'sipecam_DateDeployment_unit_of_time_day_of_year': 216,\n",
      "  'sipecam_DateDeployment_unit_of_time_month': 8,\n",
      "  'sipecam_DateDeployment_unit_of_time_quarter': 3,\n",
      "  'sipecam_DateDeployment_unit_of_time_year': 2021,\n",
      "  'sipecam_DateTimeOriginal': '2021-09-13T00:30:00Z',\n",
      "  'sipecam_DateTimeOriginal_unit_of_time_day_of_month': 13,\n",
      "  'sipecam_DateTimeOriginal_unit_of_time_day_of_week': 1,\n",
      "  'sipecam_DateTimeOriginal_unit_of_time_day_of_year': 256,\n",
      "  'sipecam_DateTimeOriginal_unit_of_time_hour': 0,\n",
      "  'sipecam_DateTimeOriginal_unit_of_time_minute': 30,\n",
      "  'sipecam_DateTimeOriginal_unit_of_time_month': 9,\n",
      "  'sipecam_DateTimeOriginal_unit_of_time_quarter': 3,\n",
      "  'sipecam_DateTimeOriginal_unit_of_time_second': 0,\n",
      "  'sipecam_DateTimeOriginal_unit_of_time_year': 2021,\n",
      "  'sipecam_Duration': 60.005085,\n",
      "  'sipecam_EcosystemsName': 'Bosques templados',\n",
      "  'sipecam_Encoding': 'Microsoft PCM',\n",
      "  'sipecam_FileSize': 5767168,\n",
      "  'sipecam_Gain': 'medium',\n",
      "  'sipecam_Latitude': 31.25407,\n",
      "  'sipecam_Longitude': -108.95226,\n",
      "  'sipecam_NodeCategoryIntegrity': 'Degradado',\n",
      "  'sipecam_NomenclatureNode': '1_95_0_1348',\n",
      "  'sipecam_NumChannels': 1,\n",
      "  'sipecam_SampleRate': 48000.0,\n",
      "  'sipecam_SerialNumber': '248C7D075B1FB916',\n",
      "  'sipecam_Timeexp': 1.0,\n",
      "  'sipecam_Timezone': 'UTC'},\n",
      " {'PATH': ['/{http://www.alfresco.org/model/application/1.0}company_home/{http://www.alfresco.org/model/site/1.0}sites/{http://www.alfresco.org/model/content/1.0}sipecam/{http://www.alfresco.org/model/content/1.0}documentLibrary/{http://www.alfresco.org/model/content/1.0}_x0039_5/{http://www.alfresco.org/model/content/1.0}_x0031__95_0_1348/{http://www.alfresco.org/model/content/1.0}_x0032_48C7D075B1FB916/{http://www.alfresco.org/model/content/1.0}_x0032_021-08-04/{http://www.alfresco.org/model/content/1.0}audios/{http://www.alfresco.org/model/content/1.0}Audible/{http://www.alfresco.org/model/content/1.0}_x0030_65d7be12fa0bef71613bec50f89daad.WAV'],\n",
      "  'id': '_DEFAULT_!800000000004e936',\n",
      "  'sipecam:Comment': ['Recorded at 15:10:00 03/09/2021 (UTC-5) by AudioMoth '\n",
      "                      '248C7D075B1FB916 at medium gain setting while battery '\n",
      "                      'state was 4.1V and temperature was 31.2C.'],\n",
      "  'sipecam_AvgBytesPerSec': 96000.0,\n",
      "  'sipecam_Battery': '4.1V',\n",
      "  'sipecam_BitRate': '768.0 Kbit/sec',\n",
      "  'sipecam_BitsPerSample': 16.0,\n",
      "  'sipecam_CentroidCumulusLatitude': 31.22829,\n",
      "  'sipecam_CentroidCumulusLongitude': -108.85782,\n",
      "  'sipecam_CumulusName': '95',\n",
      "  'sipecam_DateDeployment': '2021-08-04T00:00:00Z',\n",
      "  'sipecam_DateDeployment_unit_of_time_day_of_month': 4,\n",
      "  'sipecam_DateDeployment_unit_of_time_day_of_week': 3,\n",
      "  'sipecam_DateDeployment_unit_of_time_day_of_year': 216,\n",
      "  'sipecam_DateDeployment_unit_of_time_month': 8,\n",
      "  'sipecam_DateDeployment_unit_of_time_quarter': 3,\n",
      "  'sipecam_DateDeployment_unit_of_time_year': 2021,\n",
      "  'sipecam_DateTimeOriginal': '2021-09-03T20:10:00Z',\n",
      "  'sipecam_DateTimeOriginal_unit_of_time_day_of_month': 3,\n",
      "  'sipecam_DateTimeOriginal_unit_of_time_day_of_week': 5,\n",
      "  'sipecam_DateTimeOriginal_unit_of_time_day_of_year': 246,\n",
      "  'sipecam_DateTimeOriginal_unit_of_time_hour': 20,\n",
      "  'sipecam_DateTimeOriginal_unit_of_time_minute': 10,\n",
      "  'sipecam_DateTimeOriginal_unit_of_time_month': 9,\n",
      "  'sipecam_DateTimeOriginal_unit_of_time_quarter': 3,\n",
      "  'sipecam_DateTimeOriginal_unit_of_time_second': 0,\n",
      "  'sipecam_DateTimeOriginal_unit_of_time_year': 2021,\n",
      "  'sipecam_Duration': 60.005085,\n",
      "  'sipecam_EcosystemsName': 'Bosques templados',\n",
      "  'sipecam_Encoding': 'Microsoft PCM',\n",
      "  'sipecam_FileSize': 5767168,\n",
      "  'sipecam_Gain': 'medium',\n",
      "  'sipecam_Latitude': 31.25407,\n",
      "  'sipecam_Longitude': -108.95226,\n",
      "  'sipecam_NodeCategoryIntegrity': 'Degradado',\n",
      "  'sipecam_NomenclatureNode': '1_95_0_1348',\n",
      "  'sipecam_NumChannels': 1,\n",
      "  'sipecam_SampleRate': 48000.0,\n",
      "  'sipecam_SerialNumber': '248C7D075B1FB916',\n",
      "  'sipecam_Timeexp': 1.0,\n",
      "  'sipecam_Timezone': 'UTC'},\n",
      " {'PATH': ['/{http://www.alfresco.org/model/application/1.0}company_home/{http://www.alfresco.org/model/site/1.0}sites/{http://www.alfresco.org/model/content/1.0}sipecam/{http://www.alfresco.org/model/content/1.0}documentLibrary/{http://www.alfresco.org/model/content/1.0}_x0039_5/{http://www.alfresco.org/model/content/1.0}_x0031__95_0_1348/{http://www.alfresco.org/model/content/1.0}_x0032_48C7D075B1FB916/{http://www.alfresco.org/model/content/1.0}_x0032_021-08-04/{http://www.alfresco.org/model/content/1.0}audios/{http://www.alfresco.org/model/content/1.0}Audible/{http://www.alfresco.org/model/content/1.0}_x0031_b89f34475c9258d3aaac39e97f6602d.WAV'],\n",
      "  'id': '_DEFAULT_!800000000004d163',\n",
      "  'sipecam:Comment': ['Recorded at 03:30:00 04/09/2021 (UTC-5) by AudioMoth '\n",
      "                      '248C7D075B1FB916 at medium gain setting while battery '\n",
      "                      'state was 3.9V and temperature was 21.0C.'],\n",
      "  'sipecam_AvgBytesPerSec': 96000.0,\n",
      "  'sipecam_Battery': '3.9V',\n",
      "  'sipecam_BitRate': '768.0 Kbit/sec',\n",
      "  'sipecam_BitsPerSample': 16.0,\n",
      "  'sipecam_CentroidCumulusLatitude': 31.22829,\n",
      "  'sipecam_CentroidCumulusLongitude': -108.85782,\n",
      "  'sipecam_CumulusName': '95',\n",
      "  'sipecam_DateDeployment': '2021-08-04T00:00:00Z',\n",
      "  'sipecam_DateDeployment_unit_of_time_day_of_month': 4,\n",
      "  'sipecam_DateDeployment_unit_of_time_day_of_week': 3,\n",
      "  'sipecam_DateDeployment_unit_of_time_day_of_year': 216,\n",
      "  'sipecam_DateDeployment_unit_of_time_month': 8,\n",
      "  'sipecam_DateDeployment_unit_of_time_quarter': 3,\n",
      "  'sipecam_DateDeployment_unit_of_time_year': 2021,\n",
      "  'sipecam_DateTimeOriginal': '2021-09-04T08:30:00Z',\n",
      "  'sipecam_DateTimeOriginal_unit_of_time_day_of_month': 4,\n",
      "  'sipecam_DateTimeOriginal_unit_of_time_day_of_week': 6,\n",
      "  'sipecam_DateTimeOriginal_unit_of_time_day_of_year': 247,\n",
      "  'sipecam_DateTimeOriginal_unit_of_time_hour': 8,\n",
      "  'sipecam_DateTimeOriginal_unit_of_time_minute': 30,\n",
      "  'sipecam_DateTimeOriginal_unit_of_time_month': 9,\n",
      "  'sipecam_DateTimeOriginal_unit_of_time_quarter': 3,\n",
      "  'sipecam_DateTimeOriginal_unit_of_time_second': 0,\n",
      "  'sipecam_DateTimeOriginal_unit_of_time_year': 2021,\n",
      "  'sipecam_Duration': 60.005085,\n",
      "  'sipecam_EcosystemsName': 'Bosques templados',\n",
      "  'sipecam_Encoding': 'Microsoft PCM',\n",
      "  'sipecam_FileSize': 5767168,\n",
      "  'sipecam_Gain': 'medium',\n",
      "  'sipecam_Latitude': 31.25407,\n",
      "  'sipecam_Longitude': -108.95226,\n",
      "  'sipecam_NodeCategoryIntegrity': 'Degradado',\n",
      "  'sipecam_NomenclatureNode': '1_95_0_1348',\n",
      "  'sipecam_NumChannels': 1,\n",
      "  'sipecam_SampleRate': 48000.0,\n",
      "  'sipecam_SerialNumber': '248C7D075B1FB916',\n",
      "  'sipecam_Timeexp': 1.0,\n",
      "  'sipecam_Timezone': 'UTC'}]\n"
     ]
    }
   ],
   "source": [
    "pprint.pprint(response['response']['docs'])"
   ]
  },
  {
   "cell_type": "markdown",
   "id": "fff2a367",
   "metadata": {},
   "source": [
    "### Video"
   ]
  },
  {
   "cell_type": "markdown",
   "id": "ca1aa790",
   "metadata": {},
   "source": [
    "Al finalizar el pipeline de procesamiento de video se debe asociar a cada imagen obtenida (dado que en el pipeline de video se segmenta en frames el video, son 2 imágenes como máximo que se obtienen por decisión con el equipo de ciencia) con su metadata. Por ejemplo, qué día se tomó el video, en qué coordenadas, etc."
   ]
  },
  {
   "cell_type": "code",
   "execution_count": 218,
   "id": "b32cc8ab",
   "metadata": {},
   "outputs": [],
   "source": [
    "q          = \"q=cm:name:0d05d10d2939c0351a837b6bb2c53f1d_0528.mp4\"\n",
    "fl         = \"fl=cm_name,cm_versionType,cm_versionLabel,audio_sampleRate,sipecam*\"\n",
    "fl         = fl + \",[cached]&indent=on\"\n",
    "wt         = \"wt=json\"\n",
    "params     = [fl, q, wt] \n",
    "p          = \"&\".join(params)\n",
    "p          = p.replace(' ', '%20')"
   ]
  },
  {
   "cell_type": "code",
   "execution_count": 219,
   "id": "93ec9957",
   "metadata": {},
   "outputs": [
    {
     "name": "stdout",
     "output_type": "stream",
     "text": [
      "<http.client.HTTPResponse object at 0x7fc1a6abc1c0>\n"
     ]
    }
   ],
   "source": [
    "html = urlopen(url+p)\n",
    "print(html)\n",
    "connection = html\n",
    "if wt == \"wt=json\":\n",
    "  response   = simplejson.load(connection) \n",
    "else:\n",
    "  response   = eval(connection.read())"
   ]
  },
  {
   "cell_type": "code",
   "execution_count": 220,
   "id": "d28765ad",
   "metadata": {},
   "outputs": [
    {
     "name": "stdout",
     "output_type": "stream",
     "text": [
      "Number of hits: 1\n"
     ]
    }
   ],
   "source": [
    "print(\"Number of hits: \" + str(response['response']['numFound']))"
   ]
  },
  {
   "cell_type": "code",
   "execution_count": 221,
   "id": "ef56ee0c",
   "metadata": {},
   "outputs": [
    {
     "name": "stdout",
     "output_type": "stream",
     "text": [
      "[{'audio_sampleRate': 1000,\n",
      "  'cm_name': '0d05d10d2939c0351a837b6bb2c53f1d_0528.mp4',\n",
      "  'cm_versionLabel': '1.0',\n",
      "  'cm_versionType': 'MAJOR',\n",
      "  'id': '_DEFAULT_!800000000008ac30',\n",
      "  'sipecam_AudioBitRate': '256.4 Kbit/sec',\n",
      "  'sipecam_AudioCompression': 'Microsoft Pulse Code Modulation (PCM)',\n",
      "  'sipecam_AudioCompressionRate': '1.0x',\n",
      "  'sipecam_AudioSampleCount': 0,\n",
      "  'sipecam_AudioSampleRate': '16.0 kHz',\n",
      "  'sipecam_AvgBytesPerSec': 32050.0,\n",
      "  'sipecam_BMPVersion': 'Windows V3',\n",
      "  'sipecam_BitRate': '5.3 Mbit/sec',\n",
      "  'sipecam_BitsPerSample': 16.0,\n",
      "  'sipecam_CentroidCumulusLatitude': 18.16965,\n",
      "  'sipecam_CentroidCumulusLongitude': -91.82522,\n",
      "  'sipecam_CumulusName': '13',\n",
      "  'sipecam_DateDeployment': '2022-02-21T00:00:00Z',\n",
      "  'sipecam_DateDeployment_unit_of_time_day_of_month': 21,\n",
      "  'sipecam_DateDeployment_unit_of_time_day_of_week': 1,\n",
      "  'sipecam_DateDeployment_unit_of_time_day_of_year': 52,\n",
      "  'sipecam_DateDeployment_unit_of_time_month': 2,\n",
      "  'sipecam_DateDeployment_unit_of_time_quarter': 1,\n",
      "  'sipecam_DateDeployment_unit_of_time_year': 2022,\n",
      "  'sipecam_DateTimeOriginal': '2022-03-19T21:50:39Z',\n",
      "  'sipecam_DateTimeOriginal_unit_of_time_day_of_month': 19,\n",
      "  'sipecam_DateTimeOriginal_unit_of_time_day_of_week': 6,\n",
      "  'sipecam_DateTimeOriginal_unit_of_time_day_of_year': 78,\n",
      "  'sipecam_DateTimeOriginal_unit_of_time_hour': 21,\n",
      "  'sipecam_DateTimeOriginal_unit_of_time_minute': 50,\n",
      "  'sipecam_DateTimeOriginal_unit_of_time_month': 3,\n",
      "  'sipecam_DateTimeOriginal_unit_of_time_quarter': 1,\n",
      "  'sipecam_DateTimeOriginal_unit_of_time_second': 39,\n",
      "  'sipecam_DateTimeOriginal_unit_of_time_year': 2022,\n",
      "  'sipecam_Duration': 5.12,\n",
      "  'sipecam_EcosystemsName': 'Selvas humedas',\n",
      "  'sipecam_Encoding': 'Microsoft PCM',\n",
      "  'sipecam_Endianness': 'Little endian',\n",
      "  'sipecam_FileSize': 3355443,\n",
      "  'sipecam_FrameCount': 64,\n",
      "  'sipecam_FrameRate': 12,\n",
      "  'sipecam_ImageHeight': 720,\n",
      "  'sipecam_ImageLength': '2211840',\n",
      "  'sipecam_ImageWidth': 1024,\n",
      "  'sipecam_Latitude': 18.1404,\n",
      "  'sipecam_LatitudeRef': 'North',\n",
      "  'sipecam_Longitude': -91.9463,\n",
      "  'sipecam_LongitudeRef': 'West',\n",
      "  'sipecam_MaxDataRate': 26542080,\n",
      "  'sipecam_Megapixels': 0.73728,\n",
      "  'sipecam_NodeCategoryIntegrity': 'Degradado',\n",
      "  'sipecam_NomenclatureNode': '3_13_0_1398',\n",
      "  'sipecam_NumChannels': 1,\n",
      "  'sipecam_NumColors': 'Use BitDepth',\n",
      "  'sipecam_NumImportantColors': 'All',\n",
      "  'sipecam_PixelsPerMeterX': '0',\n",
      "  'sipecam_PixelsPerMeterY': '0',\n",
      "  'sipecam_Planes': 1,\n",
      "  'sipecam_SerialNumber': 'HLPXGM09048448',\n",
      "  'sipecam_StreamCount': 2,\n",
      "  'sipecam_VideoBitsPerPixel': 24,\n",
      "  'sipecam_VideoCompression': 'Motion JPEG DIB (fourcc:\"MJPG\")'}]\n"
     ]
    }
   ],
   "source": [
    "pprint.pprint(response['response']['docs'])"
   ]
  },
  {
   "cell_type": "markdown",
   "id": "cbf857a4",
   "metadata": {},
   "source": [
    "[SOLR client APIs, Capillas C.](https://www.zylk.net/en/web-2-0/blog/-/blogs/solr-client-apis)"
   ]
  }
 ],
 "metadata": {
  "kernelspec": {
   "display_name": "Python 3",
   "language": "python",
   "name": "python3"
  },
  "language_info": {
   "codemirror_mode": {
    "name": "ipython",
    "version": 3
   },
   "file_extension": ".py",
   "mimetype": "text/x-python",
   "name": "python",
   "nbconvert_exporter": "python",
   "pygments_lexer": "ipython3",
   "version": "3.8.8"
  }
 },
 "nbformat": 4,
 "nbformat_minor": 5
}
