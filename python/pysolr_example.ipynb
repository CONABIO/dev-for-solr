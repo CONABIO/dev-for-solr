{
 "cells": [
  {
   "cell_type": "markdown",
   "id": "9527cbc4-8ea2-474d-96d1-f2f98ee4aea4",
   "metadata": {},
   "source": [
    "### Importando librerías"
   ]
  },
  {
   "cell_type": "code",
   "execution_count": 11,
   "id": "f89830da",
   "metadata": {},
   "outputs": [
    {
     "name": "stdout",
     "output_type": "stream",
     "text": [
      "Requirement already satisfied: pysolr in /home/nelsonalejandrov/anaconda3/lib/python3.9/site-packages (3.9.0)\n",
      "Requirement already satisfied: requests>=2.9.1 in /home/nelsonalejandrov/anaconda3/lib/python3.9/site-packages (from pysolr) (2.26.0)\n",
      "Requirement already satisfied: charset-normalizer~=2.0.0 in /home/nelsonalejandrov/anaconda3/lib/python3.9/site-packages (from requests>=2.9.1->pysolr) (2.0.4)\n",
      "Requirement already satisfied: idna<4,>=2.5 in /home/nelsonalejandrov/anaconda3/lib/python3.9/site-packages (from requests>=2.9.1->pysolr) (3.2)\n",
      "Requirement already satisfied: urllib3<1.27,>=1.21.1 in /home/nelsonalejandrov/anaconda3/lib/python3.9/site-packages (from requests>=2.9.1->pysolr) (1.26.7)\n",
      "Requirement already satisfied: certifi>=2017.4.17 in /home/nelsonalejandrov/anaconda3/lib/python3.9/site-packages (from requests>=2.9.1->pysolr) (2021.10.8)\n",
      "Note: you may need to restart the kernel to use updated packages.\n"
     ]
    }
   ],
   "source": [
    "pip install pysolr"
   ]
  },
  {
   "cell_type": "code",
   "execution_count": 12,
   "id": "bfdb5197",
   "metadata": {},
   "outputs": [],
   "source": [
    "# If on Python 2.X\n",
    "from __future__ import print_function\n",
    "\n",
    "import pysolr\n",
    "import requests"
   ]
  },
  {
   "cell_type": "markdown",
   "id": "f6aa84b1-18af-484c-8a4f-89f4b4432d78",
   "metadata": {},
   "source": [
    "### Solr Local"
   ]
  },
  {
   "cell_type": "code",
   "execution_count": 41,
   "id": "1807f670",
   "metadata": {},
   "outputs": [],
   "source": [
    "# Create a client instance. The timeout and authentication options are not required.\n",
    "solr = pysolr.Solr('http://localhost:8983/solr/tech_products/',always_commit=True)"
   ]
  },
  {
   "cell_type": "code",
   "execution_count": 57,
   "id": "7bca8ef3",
   "metadata": {},
   "outputs": [
    {
     "data": {
      "text/plain": [
       "'{\\n  \"responseHeader\":{\\n    \"zkConnected\":null,\\n    \"status\":0,\\n    \"QTime\":1,\\n    \"params\":{\\n      \"q\":\"{!lucene}*:*\",\\n      \"distrib\":\"false\",\\n      \"df\":\"text\",\\n      \"preferLocalShards\":\"false\",\\n      \"rows\":\"10\",\\n      \"echoParams\":\"all\",\\n      \"rid\":\"-61\"}},\\n  \"status\":\"OK\"}\\n'"
      ]
     },
     "execution_count": 57,
     "metadata": {},
     "output_type": "execute_result"
    }
   ],
   "source": [
    "solr.ping()"
   ]
  },
  {
   "cell_type": "code",
   "execution_count": 58,
   "id": "1b10ee2c",
   "metadata": {},
   "outputs": [],
   "source": [
    "results = solr.search('')\n"
   ]
  },
  {
   "cell_type": "code",
   "execution_count": 59,
   "id": "3e2f45fe",
   "metadata": {},
   "outputs": [
    {
     "data": {
      "text/plain": [
       "'{\\n  \"responseHeader\":{\\n    \"status\":0,\\n    \"QTime\":27}}\\n'"
      ]
     },
     "execution_count": 59,
     "metadata": {},
     "output_type": "execute_result"
    }
   ],
   "source": [
    "solr.add([\n",
    "    {\n",
    "        \"id\": \"doc_1\",\n",
    "        \"title\": \"A test document\",\n",
    "    },\n",
    "    {\n",
    "        \"id\": \"doc_2\",\n",
    "        \"title\": \"The Banana: Tasty or Dangerous?\",\n",
    "        \"_doc\": [\n",
    "            { \"id\": \"child_doc_1\", \"title\": \"peel\" },\n",
    "            { \"id\": \"child_doc_2\", \"title\": \"seed\" },\n",
    "        ]\n",
    "    },\n",
    "])"
   ]
  },
  {
   "cell_type": "code",
   "execution_count": 68,
   "id": "6a773552",
   "metadata": {},
   "outputs": [],
   "source": [
    "results = solr.search('doc_1')\n"
   ]
  },
  {
   "cell_type": "code",
   "execution_count": 69,
   "id": "cd1a9abb",
   "metadata": {},
   "outputs": [
    {
     "name": "stdout",
     "output_type": "stream",
     "text": [
      "Saw 0 result(s).\n"
     ]
    }
   ],
   "source": [
    "print(\"Saw {0} result(s).\".format(len(results)))"
   ]
  },
  {
   "cell_type": "code",
   "execution_count": 70,
   "id": "cffc4fad",
   "metadata": {},
   "outputs": [],
   "source": [
    "for result in results:\n",
    "    print(\"The title is '{0}'.\".format(result['title']))\n"
   ]
  },
  {
   "cell_type": "code",
   "execution_count": 71,
   "id": "a79a297b",
   "metadata": {},
   "outputs": [],
   "source": [
    "results = solr.search('bananas', **{\n",
    "    'hl': 'true',\n",
    "    'hl.fragsize': 10,\n",
    "})"
   ]
  },
  {
   "cell_type": "code",
   "execution_count": 72,
   "id": "2d873447",
   "metadata": {},
   "outputs": [],
   "source": [
    "for doc in solr.search('*:*',fl='id',sort='id ASC',cursorMark='*'):\n",
    "    print(doc['id'])"
   ]
  },
  {
   "cell_type": "code",
   "execution_count": 73,
   "id": "535b5e8c",
   "metadata": {},
   "outputs": [
    {
     "data": {
      "text/plain": [
       "'<?xml version=\"1.0\" encoding=\"UTF-8\"?>\\n<response>\\n\\n<lst name=\"responseHeader\">\\n  <int name=\"status\">0</int>\\n  <int name=\"QTime\">15</int>\\n</lst>\\n</response>\\n'"
      ]
     },
     "execution_count": 73,
     "metadata": {},
     "output_type": "execute_result"
    }
   ],
   "source": [
    "solr.delete(id='doc_1')"
   ]
  },
  {
   "cell_type": "code",
   "execution_count": 74,
   "id": "5a7ec03e",
   "metadata": {},
   "outputs": [
    {
     "data": {
      "text/plain": [
       "'<?xml version=\"1.0\" encoding=\"UTF-8\"?>\\n<response>\\n\\n<lst name=\"responseHeader\">\\n  <int name=\"status\">0</int>\\n  <int name=\"QTime\">13</int>\\n</lst>\\n</response>\\n'"
      ]
     },
     "execution_count": 74,
     "metadata": {},
     "output_type": "execute_result"
    }
   ],
   "source": [
    "solr.delete(id=['doc_1', 'doc_2'])"
   ]
  },
  {
   "cell_type": "code",
   "execution_count": 1,
   "id": "320c816b",
   "metadata": {},
   "outputs": [],
   "source": [
    "# Esto borra todos los datos\n",
    "#solr.delete(q='*:*') "
   ]
  },
  {
   "cell_type": "markdown",
   "id": "ce744717-2140-440c-90b4-5281f7aeb490",
   "metadata": {},
   "source": [
    "### Solr externo "
   ]
  },
  {
   "cell_type": "markdown",
   "id": "d8a7b387-0cf0-4eb6-9c35-addfd9144065",
   "metadata": {},
   "source": [
    "### Conexión con el cliente de solr"
   ]
  },
  {
   "cell_type": "code",
   "execution_count": 13,
   "id": "90c6abe7-cf05-4ceb-a731-a98b1b333e31",
   "metadata": {},
   "outputs": [
    {
     "data": {
      "text/plain": [
       "'<?xml version=\"1.0\" encoding=\"UTF-8\"?>\\n<response>\\n<lst name=\"responseHeader\"><null name=\"zkConnected\"/><int name=\"status\">0</int><int name=\"QTime\">1</int></lst><str name=\"status\">OK</str>\\n</response>\\n'"
      ]
     },
     "execution_count": 13,
     "metadata": {},
     "output_type": "execute_result"
    }
   ],
   "source": [
    "solr = pysolr.Solr('http://34.208.18.151:8983/solr/alfresco', always_commit=True)\n",
    "solr.ping()"
   ]
  },
  {
   "cell_type": "markdown",
   "id": "98b0627b-7ea2-414f-b462-2a938f0932ad",
   "metadata": {},
   "source": [
    "### Haciendo una búsqueda simple e imprimiendo resultados"
   ]
  },
  {
   "cell_type": "code",
   "execution_count": 14,
   "id": "cbbab865-2957-481b-8727-10deab12339a",
   "metadata": {},
   "outputs": [
    {
     "name": "stdout",
     "output_type": "stream",
     "text": [
      "Saw 10 result(s).\n"
     ]
    }
   ],
   "source": [
    "results = solr.search('mp4')\n",
    "print(\"Saw {0} result(s).\".format(len(results)))"
   ]
  },
  {
   "cell_type": "code",
   "execution_count": 15,
   "id": "7023955b-e92d-42e0-8fe1-e3d689261ca3",
   "metadata": {},
   "outputs": [
    {
     "name": "stdout",
     "output_type": "stream",
     "text": [
      "The title is '_DEFAULT_!800000000005e66a'.\n",
      "The title is '_DEFAULT_!800000000005b1e7'.\n",
      "The title is '_DEFAULT_!800000000005b1f3'.\n",
      "The title is '_DEFAULT_!800000000005ac17'.\n",
      "The title is '_DEFAULT_!800000000005ec4c'.\n",
      "The title is '_DEFAULT_!800000000005ac9b'.\n",
      "The title is '_DEFAULT_!800000000005ec5e'.\n",
      "The title is '_DEFAULT_!800000000005ad10'.\n",
      "The title is '_DEFAULT_!800000000005adfd'.\n",
      "The title is '_DEFAULT_!800000000005ae00'.\n"
     ]
    }
   ],
   "source": [
    "for result in results:\n",
    "    print(\"The title is '{0}'.\".format(result['id']))"
   ]
  },
  {
   "cell_type": "markdown",
   "id": "d2fc4708-c2f4-4279-aa2e-26b593644b81",
   "metadata": {},
   "source": [
    "# Datos de PosgreSQL"
   ]
  },
  {
   "cell_type": "code",
   "execution_count": 1,
   "id": "653c8d3f-e94e-48b9-8438-dd9ef90eff89",
   "metadata": {},
   "outputs": [],
   "source": [
    "import pysolr"
   ]
  },
  {
   "cell_type": "code",
   "execution_count": 2,
   "id": "5e64798f-cd7c-489f-9eed-f1180d9cb7bb",
   "metadata": {},
   "outputs": [
    {
     "data": {
      "text/plain": [
       "'{\\n  \"responseHeader\":{\\n    \"zkConnected\":null,\\n    \"status\":0,\\n    \"QTime\":2,\\n    \"params\":{\\n      \"q\":\"{!lucene}*:*\",\\n      \"distrib\":\"false\",\\n      \"df\":\"_text_\",\\n      \"rows\":\"10\",\\n      \"echoParams\":\"all\",\\n      \"rid\":\"-7\"}},\\n  \"status\":\"OK\"}\\n'"
      ]
     },
     "execution_count": 2,
     "metadata": {},
     "output_type": "execute_result"
    }
   ],
   "source": [
    "solr = pysolr.Solr('http://44.234.42.238:8989/solr/nelson_testing', always_commit=True)\n",
    "solr.ping()"
   ]
  },
  {
   "cell_type": "markdown",
   "id": "414c4389-af94-4dd9-b01a-89cd9dd3414b",
   "metadata": {},
   "source": [
    "### Búsqueda"
   ]
  },
  {
   "cell_type": "code",
   "execution_count": 4,
   "id": "d051f086-82af-4917-b04b-3ec43721fd1e",
   "metadata": {},
   "outputs": [],
   "source": [
    "results = solr.search('camara_id:100')"
   ]
  },
  {
   "cell_type": "code",
   "execution_count": 9,
   "id": "7c78730f-87c5-408f-8e0c-3020c592ce20",
   "metadata": {},
   "outputs": [
    {
     "name": "stdout",
     "output_type": "stream",
     "text": [
      "Se obtuvieron 90 resultados.\n"
     ]
    }
   ],
   "source": [
    "print(\"Se obtuvieron {numFound} resultados.\".format(numFound=results.raw_response['response']['numFound']))"
   ]
  },
  {
   "cell_type": "code",
   "execution_count": 17,
   "id": "12ea8872-9517-4feb-a8a7-aad69bfc3233",
   "metadata": {},
   "outputs": [
    {
     "name": "stdout",
     "output_type": "stream",
     "text": [
      "response: \n"
     ]
    },
    {
     "data": {
      "text/plain": [
       "{'numFound': 90,\n",
       " 'start': 0,\n",
       " 'numFoundExact': True,\n",
       " 'docs': [{'nombre_comun': 'Ucides sp',\n",
       "   'camara_id': 100,\n",
       "   'archivo': '34594_S3_FCT_20140711_34.JPG',\n",
       "   'numero_individuos': 1,\n",
       "   'archivo_nombre_original': '34594_S2_FCF_20140711_01_91.JPG',\n",
       "   'nombre_cientifico': 'Ucides sp',\n",
       "   'id': '6829',\n",
       "   'presencia': 'T',\n",
       "   '_version_': 1738945179727953927},\n",
       "  {'camara_id': 100,\n",
       "   'archivo': '34594_S3_CVTC_20140711_3.JPG',\n",
       "   'archivo_nombre_original': '34594_S2_CVC_20140711_01_02.JPG',\n",
       "   'id': '6787',\n",
       "   'presencia': 'F',\n",
       "   '_version_': 1738945179730051073},\n",
       "  {'camara_id': 100,\n",
       "   'archivo': '34594_S3_CVTC_20140711_5.JPG',\n",
       "   'archivo_nombre_original': '34594_S2_CVC_20140711_01_01.JPG',\n",
       "   'id': '6788',\n",
       "   'presencia': 'F',\n",
       "   '_version_': 1738945179730051074},\n",
       "  {'camara_id': 100,\n",
       "   'archivo': '34594_S3_CVTC_20140711_6.JPG',\n",
       "   'archivo_nombre_original': '34594_S2_CVC_20140711_01_03.JPG',\n",
       "   'id': '6789',\n",
       "   'presencia': 'F',\n",
       "   '_version_': 1738945179730051075},\n",
       "  {'nombre_comun': 'Ucides sp',\n",
       "   'camara_id': 100,\n",
       "   'archivo': '34594_S3_FCT_20140711_3.JPG',\n",
       "   'numero_individuos': 7,\n",
       "   'archivo_nombre_original': '34594_S2_FCF_20140711_01_01.JPG',\n",
       "   'nombre_cientifico': 'Ucides sp',\n",
       "   'id': '6790',\n",
       "   'presencia': 'T',\n",
       "   '_version_': 1738945179730051076},\n",
       "  {'nombre_comun': 'Ucides sp',\n",
       "   'camara_id': 100,\n",
       "   'archivo': '34594_S3_FCT_20140711_4.JPG',\n",
       "   'numero_individuos': 7,\n",
       "   'archivo_nombre_original': '34594_S2_FCF_20140711_01_02.JPG',\n",
       "   'nombre_cientifico': 'Ucides sp',\n",
       "   'id': '6791',\n",
       "   'presencia': 'T',\n",
       "   '_version_': 1738945179730051077},\n",
       "  {'nombre_comun': 'Ucides sp',\n",
       "   'camara_id': 100,\n",
       "   'archivo': '34594_S3_FCT_20140711_5.JPG',\n",
       "   'numero_individuos': 7,\n",
       "   'archivo_nombre_original': '34594_S2_FCF_20140711_01_03.JPG',\n",
       "   'nombre_cientifico': 'Ucides sp',\n",
       "   'id': '6792',\n",
       "   'presencia': 'T',\n",
       "   '_version_': 1738945179730051078},\n",
       "  {'nombre_comun': 'Ucides sp',\n",
       "   'camara_id': 100,\n",
       "   'archivo': '34594_S3_FCT_20140711_6.JPG',\n",
       "   'numero_individuos': 7,\n",
       "   'archivo_nombre_original': '34594_S2_FCF_20140711_01_04.JPG',\n",
       "   'nombre_cientifico': 'Ucides sp',\n",
       "   'id': '6793',\n",
       "   'presencia': 'T',\n",
       "   '_version_': 1738945179730051079},\n",
       "  {'nombre_comun': 'Ucides sp',\n",
       "   'camara_id': 100,\n",
       "   'archivo': '34594_S3_FCT_20140711_7.JPG',\n",
       "   'numero_individuos': 8,\n",
       "   'archivo_nombre_original': '34594_S2_FCF_20140711_01_05.JPG',\n",
       "   'nombre_cientifico': 'Ucides sp',\n",
       "   'id': '6794',\n",
       "   'presencia': 'T',\n",
       "   '_version_': 1738945179730051080},\n",
       "  {'nombre_comun': 'Ucides sp',\n",
       "   'camara_id': 100,\n",
       "   'archivo': '34594_S3_FCT_20140711_8.JPG',\n",
       "   'numero_individuos': 6,\n",
       "   'archivo_nombre_original': '34594_S2_FCF_20140711_01_06.JPG',\n",
       "   'nombre_cientifico': 'Ucides sp',\n",
       "   'id': '6795',\n",
       "   'presencia': 'T',\n",
       "   '_version_': 1738945179730051081}]}"
      ]
     },
     "execution_count": 17,
     "metadata": {},
     "output_type": "execute_result"
    }
   ],
   "source": [
    "print(\"response: \")\n",
    "results.raw_response['response']"
   ]
  },
  {
   "cell_type": "code",
   "execution_count": 22,
   "id": "7256a132-5276-422a-8874-f3472f09eceb",
   "metadata": {},
   "outputs": [
    {
     "data": {
      "text/plain": [
       "[{'nombre_comun': 'Ucides sp',\n",
       "  'camara_id': 100,\n",
       "  'archivo': '34594_S3_FCT_20140711_34.JPG',\n",
       "  'numero_individuos': 1,\n",
       "  'archivo_nombre_original': '34594_S2_FCF_20140711_01_91.JPG',\n",
       "  'nombre_cientifico': 'Ucides sp',\n",
       "  'id': '6829',\n",
       "  'presencia': 'T',\n",
       "  '_version_': 1738945179727953927},\n",
       " {'camara_id': 100,\n",
       "  'archivo': '34594_S3_CVTC_20140711_3.JPG',\n",
       "  'archivo_nombre_original': '34594_S2_CVC_20140711_01_02.JPG',\n",
       "  'id': '6787',\n",
       "  'presencia': 'F',\n",
       "  '_version_': 1738945179730051073},\n",
       " {'camara_id': 100,\n",
       "  'archivo': '34594_S3_CVTC_20140711_5.JPG',\n",
       "  'archivo_nombre_original': '34594_S2_CVC_20140711_01_01.JPG',\n",
       "  'id': '6788',\n",
       "  'presencia': 'F',\n",
       "  '_version_': 1738945179730051074},\n",
       " {'camara_id': 100,\n",
       "  'archivo': '34594_S3_CVTC_20140711_6.JPG',\n",
       "  'archivo_nombre_original': '34594_S2_CVC_20140711_01_03.JPG',\n",
       "  'id': '6789',\n",
       "  'presencia': 'F',\n",
       "  '_version_': 1738945179730051075},\n",
       " {'nombre_comun': 'Ucides sp',\n",
       "  'camara_id': 100,\n",
       "  'archivo': '34594_S3_FCT_20140711_3.JPG',\n",
       "  'numero_individuos': 7,\n",
       "  'archivo_nombre_original': '34594_S2_FCF_20140711_01_01.JPG',\n",
       "  'nombre_cientifico': 'Ucides sp',\n",
       "  'id': '6790',\n",
       "  'presencia': 'T',\n",
       "  '_version_': 1738945179730051076},\n",
       " {'nombre_comun': 'Ucides sp',\n",
       "  'camara_id': 100,\n",
       "  'archivo': '34594_S3_FCT_20140711_4.JPG',\n",
       "  'numero_individuos': 7,\n",
       "  'archivo_nombre_original': '34594_S2_FCF_20140711_01_02.JPG',\n",
       "  'nombre_cientifico': 'Ucides sp',\n",
       "  'id': '6791',\n",
       "  'presencia': 'T',\n",
       "  '_version_': 1738945179730051077},\n",
       " {'nombre_comun': 'Ucides sp',\n",
       "  'camara_id': 100,\n",
       "  'archivo': '34594_S3_FCT_20140711_5.JPG',\n",
       "  'numero_individuos': 7,\n",
       "  'archivo_nombre_original': '34594_S2_FCF_20140711_01_03.JPG',\n",
       "  'nombre_cientifico': 'Ucides sp',\n",
       "  'id': '6792',\n",
       "  'presencia': 'T',\n",
       "  '_version_': 1738945179730051078},\n",
       " {'nombre_comun': 'Ucides sp',\n",
       "  'camara_id': 100,\n",
       "  'archivo': '34594_S3_FCT_20140711_6.JPG',\n",
       "  'numero_individuos': 7,\n",
       "  'archivo_nombre_original': '34594_S2_FCF_20140711_01_04.JPG',\n",
       "  'nombre_cientifico': 'Ucides sp',\n",
       "  'id': '6793',\n",
       "  'presencia': 'T',\n",
       "  '_version_': 1738945179730051079},\n",
       " {'nombre_comun': 'Ucides sp',\n",
       "  'camara_id': 100,\n",
       "  'archivo': '34594_S3_FCT_20140711_7.JPG',\n",
       "  'numero_individuos': 8,\n",
       "  'archivo_nombre_original': '34594_S2_FCF_20140711_01_05.JPG',\n",
       "  'nombre_cientifico': 'Ucides sp',\n",
       "  'id': '6794',\n",
       "  'presencia': 'T',\n",
       "  '_version_': 1738945179730051080},\n",
       " {'nombre_comun': 'Ucides sp',\n",
       "  'camara_id': 100,\n",
       "  'archivo': '34594_S3_FCT_20140711_8.JPG',\n",
       "  'numero_individuos': 6,\n",
       "  'archivo_nombre_original': '34594_S2_FCF_20140711_01_06.JPG',\n",
       "  'nombre_cientifico': 'Ucides sp',\n",
       "  'id': '6795',\n",
       "  'presencia': 'T',\n",
       "  '_version_': 1738945179730051081}]"
      ]
     },
     "execution_count": 22,
     "metadata": {},
     "output_type": "execute_result"
    }
   ],
   "source": [
    "results.raw_response['response']['docs']"
   ]
  },
  {
   "cell_type": "code",
   "execution_count": 29,
   "id": "739a7c15-fe2b-49c2-b348-6d54a3bb8d68",
   "metadata": {},
   "outputs": [
    {
     "name": "stdout",
     "output_type": "stream",
     "text": [
      "response: \n"
     ]
    },
    {
     "data": {
      "text/plain": [
       "{'6829': {},\n",
       " '6787': {},\n",
       " '6788': {},\n",
       " '6789': {},\n",
       " '6790': {},\n",
       " '6791': {},\n",
       " '6792': {},\n",
       " '6793': {},\n",
       " '6794': {},\n",
       " '6795': {}}"
      ]
     },
     "execution_count": 29,
     "metadata": {},
     "output_type": "execute_result"
    }
   ],
   "source": [
    "results = solr.search('camara_id:100', **{'hl': 'true', 'hl.fl' :'camara_id'})\n",
    "print(\"response: \")\n",
    "results.raw_response['highlighting']"
   ]
  },
  {
   "cell_type": "markdown",
   "id": "151a8c74-ebfb-4626-92bd-aede86bc7092",
   "metadata": {},
   "source": [
    "#### Importar los datos usando el DIH \n",
    "\n",
    "* /dataimport : This will return the actual status.\n",
    "* /dataimport?command=full-import : This command will start the full import process. Remember that the default behavior is to delete the index contents at the beginning.\n",
    "* /dataimport?command=delta-import : This command will start the incremental indexing process.\n",
    "* /dataimport?command=reload-config : This command will force a configuration reload.\n",
    "* /dataimport?command=abort : This command will stop the indexing process."
   ]
  },
  {
   "cell_type": "markdown",
   "id": "822a6cc8-4931-43ed-8117-3b7aeb7a4ced",
   "metadata": {},
   "source": [
    "No existe la opción de usar el DIH desde Pysolr pero podemos usar rest calls."
   ]
  },
  {
   "cell_type": "code",
   "execution_count": 31,
   "id": "e387087c-6336-4b2c-a3fc-3664d6738f46",
   "metadata": {},
   "outputs": [
    {
     "data": {
      "text/plain": [
       "'\\nimport urllib\\nimport simplejson\\nimport pprint\\nimport sys\\n\\nfrom urllib.request import urlopen'"
      ]
     },
     "execution_count": 31,
     "metadata": {},
     "output_type": "execute_result"
    }
   ],
   "source": [
    "\n",
    "\"\"\"\n",
    "import urllib\n",
    "import simplejson\n",
    "import pprint\n",
    "import sys\n",
    "\n",
    "from urllib.request import urlopen\"\"\"\n"
   ]
  },
  {
   "cell_type": "code",
   "execution_count": 30,
   "id": "f39a9d1a-2738-4cb1-9d33-eab2afbdeffe",
   "metadata": {},
   "outputs": [],
   "source": [
    "# http://localhost:8983/solr/dataimport?command=full-import&entity=plagas"
   ]
  },
  {
   "cell_type": "code",
   "execution_count": 24,
   "id": "3a45b5d0-1e0a-4893-b283-51c2078f874c",
   "metadata": {},
   "outputs": [
    {
     "name": "stdout",
     "output_type": "stream",
     "text": [
      "Help on module pysolr:\n",
      "\n",
      "NAME\n",
      "    pysolr - # -*- coding: utf-8 -*-\n",
      "\n",
      "CLASSES\n",
      "    builtins.object\n",
      "        Solr\n",
      "    \n",
      "    class Solr(builtins.object)\n",
      "     |  Solr(url, decoder=None, timeout=60, results_cls=<class 'pysolr.Results'>, search_handler='select', use_qt_param=False, always_commit=False, auth=None, verify=True)\n",
      "     |  \n",
      "     |  The main object for working with Solr.\n",
      "     |  \n",
      "     |  Optionally accepts ``decoder`` for an alternate JSON decoder instance.\n",
      "     |  Default is ``json.JSONDecoder()``.\n",
      "     |  \n",
      "     |  Optionally accepts ``timeout`` for wait seconds until giving up on a\n",
      "     |  request. Default is ``60`` seconds.\n",
      "     |  \n",
      "     |  Optionally accepts ``results_cls`` that specifies class of results object\n",
      "     |  returned by ``.search()`` and ``.more_like_this()`` methods.\n",
      "     |  Default is ``pysolr.Results``.\n",
      "     |  \n",
      "     |  Usage::\n",
      "     |  \n",
      "     |      solr = pysolr.Solr('http://localhost:8983/solr')\n",
      "     |      # With a 10 second timeout.\n",
      "     |      solr = pysolr.Solr('http://localhost:8983/solr', timeout=10)\n",
      "     |  \n",
      "     |      # with a dict as a default results class instead of pysolr.Results\n",
      "     |      solr = pysolr.Solr('http://localhost:8983/solr', results_cls=dict)\n",
      "     |  \n",
      "     |  Methods defined here:\n",
      "     |  \n",
      "     |  __init__(self, url, decoder=None, timeout=60, results_cls=<class 'pysolr.Results'>, search_handler='select', use_qt_param=False, always_commit=False, auth=None, verify=True)\n",
      "     |      Initialize self.  See help(type(self)) for accurate signature.\n",
      "     |  \n",
      "     |  add(self, docs, boost=None, fieldUpdates=None, commit=None, softCommit=False, commitWithin=None, waitFlush=None, waitSearcher=None, overwrite=None, handler='update')\n",
      "     |      Adds or updates documents.\n",
      "     |      \n",
      "     |      Requires ``docs``, which is a list of dictionaries. Each key is the\n",
      "     |      field name and each value is the value to index.\n",
      "     |      \n",
      "     |      Optionally accepts ``commit``. Default is ``None``. None signals to use default\n",
      "     |      \n",
      "     |      Optionally accepts ``softCommit``. Default is ``False``.\n",
      "     |      \n",
      "     |      Optionally accepts ``boost``. Default is ``None``.\n",
      "     |      \n",
      "     |      Optionally accepts ``fieldUpdates``. Default is ``None``.\n",
      "     |      \n",
      "     |      Optionally accepts ``commitWithin``. Default is ``None``.\n",
      "     |      \n",
      "     |      Optionally accepts ``waitFlush``. Default is ``None``.\n",
      "     |      \n",
      "     |      Optionally accepts ``waitSearcher``. Default is ``None``.\n",
      "     |      \n",
      "     |      Optionally accepts ``overwrite``. Default is ``None``.\n",
      "     |      \n",
      "     |      Usage::\n",
      "     |      \n",
      "     |          solr.add([\n",
      "     |              {\n",
      "     |                  \"id\": \"doc_1\",\n",
      "     |                  \"title\": \"A test document\",\n",
      "     |              },\n",
      "     |              {\n",
      "     |                  \"id\": \"doc_2\",\n",
      "     |                  \"title\": \"The Banana: Tasty or Dangerous?\",\n",
      "     |              },\n",
      "     |          ])\n",
      "     |  \n",
      "     |  commit(self, softCommit=False, waitFlush=None, waitSearcher=None, expungeDeletes=None, handler='update')\n",
      "     |      Forces Solr to write the index data to disk.\n",
      "     |      \n",
      "     |      Optionally accepts ``expungeDeletes``. Default is ``None``.\n",
      "     |      \n",
      "     |      Optionally accepts ``waitFlush``. Default is ``None``.\n",
      "     |      \n",
      "     |      Optionally accepts ``waitSearcher``. Default is ``None``.\n",
      "     |      \n",
      "     |      Optionally accepts ``softCommit``. Default is ``False``.\n",
      "     |      \n",
      "     |      Usage::\n",
      "     |      \n",
      "     |          solr.commit()\n",
      "     |  \n",
      "     |  delete(self, id=None, q=None, commit=None, softCommit=False, waitFlush=None, waitSearcher=None, handler='update')\n",
      "     |      Deletes documents.\n",
      "     |      \n",
      "     |      Requires *either* ``id`` or ``query``. ``id`` is if you know the\n",
      "     |      specific document id to remove. Note that ``id`` can also be a list of\n",
      "     |      document ids to be deleted. ``query`` is a Lucene-style query\n",
      "     |      indicating a collection of documents to delete.\n",
      "     |      \n",
      "     |      Optionally accepts ``commit``. Default is ``True``.\n",
      "     |      \n",
      "     |      Optionally accepts ``softCommit``. Default is ``False``.\n",
      "     |      \n",
      "     |      Optionally accepts ``waitFlush``. Default is ``None``.\n",
      "     |      \n",
      "     |      Optionally accepts ``waitSearcher``. Default is ``None``.\n",
      "     |      \n",
      "     |      Usage::\n",
      "     |      \n",
      "     |          solr.delete(id='doc_12')\n",
      "     |          solr.delete(id=['doc_1', 'doc_3'])\n",
      "     |          solr.delete(q='*:*')\n",
      "     |  \n",
      "     |  extract(self, file_obj, extractOnly=True, handler='update/extract', **kwargs)\n",
      "     |      POSTs a file to the Solr ExtractingRequestHandler so rich content can\n",
      "     |      be processed using Apache Tika. See the Solr wiki for details:\n",
      "     |      \n",
      "     |          http://wiki.apache.org/solr/ExtractingRequestHandler\n",
      "     |      \n",
      "     |      The ExtractingRequestHandler has a very simple model: it extracts\n",
      "     |      contents and metadata from the uploaded file and inserts it directly\n",
      "     |      into the index. This is rarely useful as it allows no way to store\n",
      "     |      additional data or otherwise customize the record. Instead, by default\n",
      "     |      we'll use the extract-only mode to extract the data without indexing it\n",
      "     |      so the caller has the opportunity to process it as appropriate; call\n",
      "     |      with ``extractOnly=False`` if you want to insert with no additional\n",
      "     |      processing.\n",
      "     |      \n",
      "     |      Returns None if metadata cannot be extracted; otherwise returns a\n",
      "     |      dictionary containing at least two keys:\n",
      "     |      \n",
      "     |          :contents:\n",
      "     |                      Extracted full-text content, if applicable\n",
      "     |          :metadata:\n",
      "     |                      key:value pairs of text strings\n",
      "     |  \n",
      "     |  get_session(self)\n",
      "     |  \n",
      "     |  more_like_this(self, q, mltfl, handler='mlt', **kwargs)\n",
      "     |      Finds and returns results similar to the provided query.\n",
      "     |      \n",
      "     |      Returns ``self.results_cls`` class object (defaults to\n",
      "     |      ``pysolr.Results``)\n",
      "     |      \n",
      "     |      Requires Solr 1.3+.\n",
      "     |      \n",
      "     |      Usage::\n",
      "     |      \n",
      "     |          similar = solr.more_like_this('id:doc_234', 'text')\n",
      "     |  \n",
      "     |  optimize(self, commit=True, waitFlush=None, waitSearcher=None, maxSegments=None, handler='update')\n",
      "     |      Tells Solr to streamline the number of segments used, essentially a\n",
      "     |      defragmentation operation.\n",
      "     |      \n",
      "     |      Optionally accepts ``maxSegments``. Default is ``None``.\n",
      "     |      \n",
      "     |      Optionally accepts ``waitFlush``. Default is ``None``.\n",
      "     |      \n",
      "     |      Optionally accepts ``waitSearcher``. Default is ``None``.\n",
      "     |      \n",
      "     |      Usage::\n",
      "     |      \n",
      "     |          solr.optimize()\n",
      "     |  \n",
      "     |  ping(self, handler='admin/ping', **kwargs)\n",
      "     |      Sends a ping request.\n",
      "     |      \n",
      "     |      Usage::\n",
      "     |      \n",
      "     |          solr.ping()\n",
      "     |  \n",
      "     |  search(self, q, search_handler=None, **kwargs)\n",
      "     |      Performs a search and returns the results.\n",
      "     |      \n",
      "     |      Requires a ``q`` for a string version of the query to run.\n",
      "     |      \n",
      "     |      Optionally accepts ``**kwargs`` for additional options to be passed\n",
      "     |      through the Solr URL.\n",
      "     |      \n",
      "     |      Returns ``self.results_cls`` class object (defaults to\n",
      "     |      ``pysolr.Results``)\n",
      "     |      \n",
      "     |      Usage::\n",
      "     |      \n",
      "     |          # All docs.\n",
      "     |          results = solr.search('*:*')\n",
      "     |      \n",
      "     |          # Search with highlighting.\n",
      "     |          results = solr.search('ponies', **{\n",
      "     |              'hl': 'true',\n",
      "     |              'hl.fragsize': 10,\n",
      "     |          })\n",
      "     |  \n",
      "     |  suggest_terms(self, fields, prefix, handler='terms', **kwargs)\n",
      "     |      Accepts a list of field names and a prefix\n",
      "     |      \n",
      "     |      Returns a dictionary keyed on field name containing a list of\n",
      "     |      ``(term, count)`` pairs\n",
      "     |      \n",
      "     |      Requires Solr 1.4+.\n",
      "     |  \n",
      "     |  ----------------------------------------------------------------------\n",
      "     |  Data descriptors defined here:\n",
      "     |  \n",
      "     |  __dict__\n",
      "     |      dictionary for instance variables (if defined)\n",
      "     |  \n",
      "     |  __weakref__\n",
      "     |      list of weak references to the object (if defined)\n",
      "\n",
      "DATA\n",
      "    __all__ = ['Solr']\n",
      "\n",
      "VERSION\n",
      "    3.9.0\n",
      "\n",
      "AUTHOR\n",
      "    Daniel Lindsley, Joseph Kocherhans, Jacob Kaplan-Moss, Thomas Rieder\n",
      "\n",
      "FILE\n",
      "    /home/nelsonalejandrov/anaconda3/lib/python3.9/site-packages/pysolr.py\n",
      "\n",
      "\n"
     ]
    }
   ],
   "source": [
    "help(pysolr)"
   ]
  }
 ],
 "metadata": {
  "kernelspec": {
   "display_name": "Python 3 (ipykernel)",
   "language": "python",
   "name": "python3"
  },
  "language_info": {
   "codemirror_mode": {
    "name": "ipython",
    "version": 3
   },
   "file_extension": ".py",
   "mimetype": "text/x-python",
   "name": "python",
   "nbconvert_exporter": "python",
   "pygments_lexer": "ipython3",
   "version": "3.9.7"
  }
 },
 "nbformat": 4,
 "nbformat_minor": 5
}
