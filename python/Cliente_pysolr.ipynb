{
 "cells": [
  {
   "cell_type": "markdown",
   "id": "d5087d09",
   "metadata": {},
   "source": [
    "### Importando librerías"
   ]
  },
  {
   "cell_type": "code",
   "execution_count": 2,
   "id": "99517d8b",
   "metadata": {},
   "outputs": [],
   "source": [
    "import pysolr\n",
    "import requests"
   ]
  },
  {
   "cell_type": "markdown",
   "id": "7667b6d3",
   "metadata": {},
   "source": [
    "### Conexión con el cliente de solr"
   ]
  },
  {
   "cell_type": "code",
   "execution_count": 20,
   "id": "dc5cb2cb",
   "metadata": {},
   "outputs": [
    {
     "data": {
      "text/plain": [
       "'<?xml version=\"1.0\" encoding=\"UTF-8\"?>\\n<response>\\n<lst name=\"responseHeader\"><null name=\"zkConnected\"/><int name=\"status\">0</int><int name=\"QTime\">1</int></lst><str name=\"status\">OK</str>\\n</response>\\n'"
      ]
     },
     "execution_count": 20,
     "metadata": {},
     "output_type": "execute_result"
    }
   ],
   "source": [
    "solr = pysolr.Solr('http://34.208.18.151:8983/solr/alfresco', always_commit=True)\n",
    "solr.ping()"
   ]
  },
  {
   "cell_type": "markdown",
   "id": "2729cfe2",
   "metadata": {},
   "source": [
    "### Haciendo una búsqueda simple e imprimiendo resultados"
   ]
  },
  {
   "cell_type": "code",
   "execution_count": 21,
   "id": "55f652f7",
   "metadata": {},
   "outputs": [],
   "source": [
    "results = solr.search('mp4')"
   ]
  },
  {
   "cell_type": "code",
   "execution_count": 22,
   "id": "0a99215f",
   "metadata": {},
   "outputs": [
    {
     "name": "stdout",
     "output_type": "stream",
     "text": [
      "Saw 10 result(s).\n"
     ]
    }
   ],
   "source": [
    "print(\"Saw {0} result(s).\".format(len(results)))"
   ]
  },
  {
   "cell_type": "code",
   "execution_count": 37,
   "id": "192125af",
   "metadata": {},
   "outputs": [
    {
     "name": "stdout",
     "output_type": "stream",
     "text": [
      "The title is '_DEFAULT_!8000000000058ca4'.\n",
      "The title is '_DEFAULT_!8000000000058caa'.\n",
      "The title is '_DEFAULT_!800000000005a1ca'.\n",
      "The title is '_DEFAULT_!800000000005a1cd'.\n",
      "The title is '_DEFAULT_!8000000000058cc5'.\n",
      "The title is '_DEFAULT_!800000000005967c'.\n",
      "The title is '_DEFAULT_!800000000005890e'.\n",
      "The title is '_DEFAULT_!80000000000593eb'.\n",
      "The title is '_DEFAULT_!800000000005969a'.\n",
      "The title is '_DEFAULT_!800000000005969d'.\n"
     ]
    }
   ],
   "source": [
    "for result in results:\n",
    "    print(\"The title is '{0}'.\".format(result['id']))"
   ]
  }
 ],
 "metadata": {
  "kernelspec": {
   "display_name": "Python 3 (ipykernel)",
   "language": "python",
   "name": "python3"
  },
  "language_info": {
   "codemirror_mode": {
    "name": "ipython",
    "version": 3
   },
   "file_extension": ".py",
   "mimetype": "text/x-python",
   "name": "python",
   "nbconvert_exporter": "python",
   "pygments_lexer": "ipython3",
   "version": "3.10.4"
  }
 },
 "nbformat": 4,
 "nbformat_minor": 5
}
